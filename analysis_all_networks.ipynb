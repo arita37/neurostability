{
 "cells": [
  {
   "cell_type": "markdown",
   "metadata": {},
   "source": [
    "# Study of the stability of several G&CNETs at the same time\n",
    "\n",
    "In this notebook we define a dictionary with the filenames of several trained deep networks and we perform the stability analysis on all of them\n",
    "\n"
   ]
  },
  {
   "cell_type": "markdown",
   "metadata": {},
   "source": [
    "| Packages needed    | \n",
    "|----------|\n",
    "| scipy  | \n",
    "| numpy  | \n",
    "| matplotlib  | \n",
    "| pyaudi  |\n",
    "| pygmo  |\n",
    "| progressbar  |\n",
    "| control  |\n",
    "\n",
    "\n",
    "Can all be installed via pip  or conda package managers (tested in python 3.7)"
   ]
  },
  {
   "cell_type": "code",
   "execution_count": 1,
   "metadata": {},
   "outputs": [],
   "source": [
    "%matplotlib inline\n",
    "\n",
    "import pygmo as pg\n",
    "from pyquad import Controller, rkf45, rkf45_gduals\n",
    "import numpy as np\n",
    "from math import sin, cos, sqrt, tanh\n",
    "import progressbar\n",
    "\n",
    "import matplotlib.pyplot as plt\n",
    "from matplotlib import animation, rc\n",
    "from IPython.display import HTML\n",
    "\n",
    "g0 = 9.81 # m/s2\n",
    "m = 0.38905 # kg\n",
    "T_max = 9.1 # N\n",
    "theta_max = 35 # rad/sec\n",
    "\n"
   ]
  },
  {
   "cell_type": "markdown",
   "metadata": {},
   "source": [
    "### 1 - Find the exact equilibrium point\n",
    "We shift the reference system so that all neural controllers (GECNETs) will have the origin as equilibrum point. This corresponds to the quad hovering. We thus need to find such equilibrium point for all GECNETs \n"
   ]
  },
  {
   "cell_type": "code",
   "execution_count": 2,
   "metadata": {},
   "outputs": [],
   "source": [
    "# This pygmo problem is solved by the equilibrium point of the system\n",
    "class my_prob:\n",
    "    def __init__(self, path):\n",
    "        self.Controller = Controller(path)\n",
    "    def fitness(self, x):\n",
    "        return [np.linalg.norm(self.Controller.compute_control(x) - np.array([g0*m, 0]))]\n",
    "    def get_bounds(self):\n",
    "        return ([-1,0,-1,0,0],[1,0,1,0,0])"
   ]
  },
  {
   "cell_type": "code",
   "execution_count": 3,
   "metadata": {},
   "outputs": [],
   "source": [
    "# Here we create a dictionary that we will populate for each network with the stability margins\n",
    "# [path, bias, error in equilibrium, controller, damp, freq, timedelay]\n",
    "data = dict() \n",
    "data[\"N_01_0050\"] = [\"data/softplus/power_bebop_drag_h01_n0050_softplus.pkl\", [], False, False,0.,0.,0.]\n",
    "data[\"N_02_0050\"] = [\"data/softplus/power_bebop_drag_h02_n0050_softplus.pkl\", [], False,False,0.,0.,0.]\n",
    "data[\"N_03_0050\"] = [\"data/softplus/power_bebop_drag_h03_n0050_softplus.pkl\", [], False,False,0.,0.,0.]\n",
    "data[\"N_04_0050\"] = [\"data/softplus/power_bebop_drag_h04_n0050_softplus.pkl\", [], False,False,0.,0.,0.]\n",
    "data[\"N_05_0050\"] = [\"data/softplus/power_bebop_drag_h05_n0050_softplus.pkl\", [], False,False,0.,0.,0.]\n",
    "data[\"N_06_0050\"] = [\"data/softplus/power_bebop_drag_h06_n0050_softplus.pkl\", [], False,False,0.,0.,0.]\n",
    "data[\"N_07_0050\"] = [\"data/softplus/power_bebop_drag_h07_n0050_softplus.pkl\", [], False,False,0.,0.,0.]\n",
    "data[\"N_08_0050\"] = [\"data/softplus/power_bebop_drag_h08_n0050_softplus.pkl\", [], False,False,0.,0.,0.]\n",
    "data[\"N_09_0050\"] = [\"data/softplus/power_bebop_drag_h09_n0050_softplus.pkl\", [], False,False,0.,0.,0.]\n",
    "data[\"N_01_0100\"] = [\"data/softplus/power_bebop_drag_h01_n0100_softplus.pkl\", [], False, False,0.,0.,0.]\n",
    "data[\"N_02_0100\"] = [\"data/softplus/power_bebop_drag_h02_n0100_softplus.pkl\", [], False,False,0.,0.,0.]\n",
    "data[\"N_03_0100\"] = [\"data/softplus/power_bebop_drag_h03_n0100_softplus.pkl\", [], False,False,0.,0.,0.]\n",
    "data[\"N_04_0100\"] = [\"data/softplus/power_bebop_drag_h04_n0100_softplus.pkl\", [], False,False,0.,0.,0.]\n",
    "data[\"N_05_0100\"] = [\"data/softplus/power_bebop_drag_h05_n0100_softplus.pkl\", [], False,False,0.,0.,0.]\n",
    "data[\"N_06_0100\"] = [\"data/softplus/power_bebop_drag_h06_n0100_softplus.pkl\", [], False,False,0.,0.,0.]\n",
    "data[\"N_07_0100\"] = [\"data/softplus/power_bebop_drag_h07_n0100_softplus.pkl\", [], False,False,0.,0.,0.]\n",
    "data[\"N_08_0100\"] = [\"data/softplus/power_bebop_drag_h08_n0100_softplus.pkl\", [], False,False,0.,0.,0.]\n",
    "data[\"N_09_0100\"] = [\"data/softplus/power_bebop_drag_h09_n0100_softplus.pkl\", [], False,False,0.,0.,0.]\n",
    "data[\"N_01_0200\"] = [\"data/softplus/power_bebop_drag_h01_n0200_softplus.pkl\", [], False, False,0.,0.,0.]\n",
    "data[\"N_02_0200\"] = [\"data/softplus/power_bebop_drag_h02_n0200_softplus.pkl\", [], False,False,0.,0.,0.]\n",
    "data[\"N_03_0200\"] = [\"data/softplus/power_bebop_drag_h03_n0200_softplus.pkl\", [], False,False,0.,0.,0.]\n",
    "data[\"N_04_0200\"] = [\"data/softplus/power_bebop_drag_h04_n0200_softplus.pkl\", [], False,False,0.,0.,0.]\n",
    "data[\"N_05_0200\"] = [\"data/softplus/power_bebop_drag_h05_n0200_softplus.pkl\", [], False,False,0.,0.,0.]\n",
    "data[\"N_06_0200\"] = [\"data/softplus/power_bebop_drag_h06_n0200_softplus.pkl\", [], False,False,0.,0.,0.]\n",
    "data[\"N_07_0200\"] = [\"data/softplus/power_bebop_drag_h07_n0200_softplus.pkl\", [], False,False,0.,0.,0.]\n",
    "data[\"N_08_0200\"] = [\"data/softplus/power_bebop_drag_h08_n0200_softplus.pkl\", [], False,False,0.,0.,0.]\n",
    "data[\"N_09_0200\"] = [\"data/softplus/power_bebop_drag_h09_n0200_softplus.pkl\", [], False,False,0.,0.,0.]"
   ]
  },
  {
   "cell_type": "code",
   "execution_count": 6,
   "metadata": {},
   "outputs": [
    {
     "name": "stderr",
     "output_type": "stream",
     "text": [
      " 92% (25 of 27) |######################  | Elapsed Time: 0:01:20 ETA:   0:00:16/usr/lib/python3.7/site-packages/numpy/lib/function_base.py:2048: RuntimeWarning: overflow encountered in ? (vectorized)\n",
      "  outputs = ufunc(*inputs)\n",
      "100% (27 of 27) |########################| Elapsed Time: 0:01:39 Time:  0:01:39\n"
     ]
    }
   ],
   "source": [
    "for N in progressbar.progressbar(data):\n",
    "    udp = my_prob(data[N][0])\n",
    "    prob = pg.problem(udp)\n",
    "    algo = pg.algorithm(pg.de(gen=300, xtol=1e-14, ftol=1e-14))\n",
    "    algo.set_verbosity(1)\n",
    "    pop = pg.population(prob,19)\n",
    "    pop.push_back([0,0,0,0,0])\n",
    "    pop = algo.evolve(pop)\n",
    "    data[N][1] = pop.champion_x\n",
    "    err = np.linalg.norm(udp.Controller.compute_control(pop.champion_x) - np.array([3.81658050, 0]))\n",
    "    data[N][2] = err"
   ]
  },
  {
   "cell_type": "markdown",
   "metadata": {},
   "source": [
    "### 2 - Redefine the Controller so that the origin is the equilibrium point"
   ]
  },
  {
   "cell_type": "code",
   "execution_count": 7,
   "metadata": {},
   "outputs": [],
   "source": [
    "class UnbiasedController(Controller):\n",
    "    def __init__(self, path_to_pickle, bias):\n",
    "        super(UnbiasedController, self).__init__(path_to_pickle)\n",
    "        self.bias = np.array(bias)\n",
    "    def compute_control(self, state):\n",
    "        return super(UnbiasedController, self).compute_control(state + self.bias)"
   ]
  },
  {
   "cell_type": "code",
   "execution_count": 8,
   "metadata": {},
   "outputs": [
    {
     "name": "stderr",
     "output_type": "stream",
     "text": [
      "100% (27 of 27) |########################| Elapsed Time: 0:00:00 Time:  0:00:00\n"
     ]
    }
   ],
   "source": [
    "for N in progressbar.progressbar(data):\n",
    "    data[N][3] = UnbiasedController(data[N][0], data[N][1])\n"
   ]
  },
  {
   "cell_type": "code",
   "execution_count": 9,
   "metadata": {},
   "outputs": [
    {
     "name": "stderr",
     "output_type": "stream",
     "text": [
      "100% (27 of 27) |########################| Elapsed Time: 0:00:00 Time:  0:00:00\n"
     ]
    },
    {
     "name": "stdout",
     "output_type": "stream",
     "text": [
      "N_01_0050 -> u1 =  9.81 , u2 =  -6.459676543668635e-16\n",
      "N_02_0050 -> u1 =  9.809999999999945 , u2 =  4.2377126113768426e-14\n",
      "N_03_0050 -> u1 =  9.810000000000027 , u2 =  -3.73900129607696e-14\n",
      "N_04_0050 -> u1 =  9.809999999999919 , u2 =  -7.855261580091977e-15\n",
      "N_05_0050 -> u1 =  9.810000000000008 , u2 =  -6.4598933841031325e-15\n",
      "N_06_0050 -> u1 =  9.809999999995652 , u2 =  9.098169266585909e-14\n",
      "N_07_0050 -> u1 =  9.809999999999981 , u2 =  2.609674629172609e-15\n",
      "N_08_0050 -> u1 =  9.809999999999953 , u2 =  -3.669156992125444e-15\n",
      "N_09_0050 -> u1 =  9.809999999999999 , u2 =  5.633080807365687e-15\n",
      "N_01_0100 -> u1 =  9.81 , u2 =  5.167307554065914e-16\n",
      "N_02_0100 -> u1 =  9.810000000000008 , u2 =  -2.6459954019508736e-14\n",
      "N_03_0100 -> u1 =  9.809999999999963 , u2 =  -5.6459828132182643e-14\n",
      "N_04_0100 -> u1 =  9.810000000000006 , u2 =  -2.506458582351989e-15\n",
      "N_05_0100 -> u1 =  9.809999999999977 , u2 =  2.377221683391717e-15\n",
      "N_06_0100 -> u1 =  9.809999999999992 , u2 =  -8.786374405822528e-16\n",
      "N_07_0100 -> u1 =  9.809999999999985 , u2 =  -1.111090386363145e-15\n",
      "N_08_0100 -> u1 =  9.810000000000088 , u2 =  -2.9715813143482706e-15\n",
      "N_09_0100 -> u1 =  9.809999999999906 , u2 =  5.842375194742289e-14\n",
      "N_01_0200 -> u1 =  9.809999999999997 , u2 =  2.377221683391717e-15\n",
      "N_02_0200 -> u1 =  9.810000000000024 , u2 =  -2.2971425109319377e-14\n",
      "N_03_0200 -> u1 =  9.809999999999986 , u2 =  3.9353936776009846e-14\n",
      "N_04_0200 -> u1 =  9.810000000000008 , u2 =  -6.459676543668635e-16\n",
      "N_05_0200 -> u1 =  9.810000000000016 , u2 =  2.2377065478362823e-14\n",
      "N_06_0200 -> u1 =  9.810000000000027 , u2 =  2.8427780962569926e-16\n",
      "N_07_0200 -> u1 =  9.81000000000002 , u2 =  6.795779217139142e-15\n",
      "N_08_0200 -> u1 =  9.810000000000068 , u2 =  -7.390138848095695e-15\n",
      "N_09_0200 -> u1 =  9.81 , u2 =  -9.645973256255935e-14\n"
     ]
    }
   ],
   "source": [
    "for N in progressbar.progressbar(data):\n",
    "    a = data[N][3].compute_control([0,0,0,0,0])\n",
    "    # To check the hovering equilibrium we print down the neurocontroller output at the found equilibrium\n",
    "    print(N, \"->\", \"u1 = \", a[0] / m, \", u2 = \", a[1])"
   ]
  },
  {
   "cell_type": "markdown",
   "metadata": {},
   "source": [
    "### 3 - Simulate the dynamics"
   ]
  },
  {
   "cell_type": "code",
   "execution_count": 10,
   "metadata": {},
   "outputs": [],
   "source": [
    "# This is a simple Runga Kutta fourth order numerical integrator with fixed step.\n",
    "# It is programmed to work both with floats and gduals. It infers the type from the initial conditions.\n",
    "# For creating plots and movies is ok, to do the Taylor map computations the rk45 (adaptive step) should be used.\n",
    "def rk4(f, t0, y0, tf, N):\n",
    "    h = (tf - t0) / N\n",
    "    t = np.arange(t0,tf,h)\n",
    "    y = np.array([[y0[0]] * np.size(y0)] * N)\n",
    "    y[0] = y0\n",
    "    for n in progressbar.progressbar(range(N - 1)):\n",
    "        xi1 = y[n]\n",
    "        f1 = f(t[n], xi1)\n",
    "        xi2 = y[n] + (h/2.)*f1\n",
    "        f2 = f(t[n+1], xi2)\n",
    "        xi3 = y[n] + (h/2.)*f2\n",
    "        f3 = f(t[n+1], xi3)\n",
    "        xi4 = y[n] + h*f3\n",
    "        f4 = f(t[n+1], xi4)\n",
    "        y[n+1] = y[n] + (h/6.)*(f1 + 2*f2 + 2*f3 + f4)\n",
    "    return y\n",
    "\n",
    "\n",
    "    "
   ]
  },
  {
   "cell_type": "code",
   "execution_count": 11,
   "metadata": {},
   "outputs": [],
   "source": [
    "# Our quad dynamics\n",
    "def rhs(t, x, uc):\n",
    "    u = uc.compute_control(x)\n",
    "    return np.array([\n",
    "        x[1],\n",
    "         -0.5*x[1] + (u[0])/m * sin(x[4]),\n",
    "        x[3],\n",
    "        -0.5 *x[3] - g0 + (u[0])/m * cos(x[4]),\n",
    "         u[1],\n",
    "    ])"
   ]
  },
  {
   "cell_type": "markdown",
   "metadata": {},
   "source": [
    "#### Trajectory plot (comparing two networks)"
   ]
  },
  {
   "cell_type": "code",
   "execution_count": 12,
   "metadata": {},
   "outputs": [
    {
     "name": "stderr",
     "output_type": "stream",
     "text": [
      "100% (99 of 99) |########################| Elapsed Time: 0:00:00 Time:  0:00:00\n",
      "100% (99 of 99) |########################| Elapsed Time: 0:00:00 Time:  0:00:00\n"
     ]
    }
   ],
   "source": [
    "# Initial condition for the plots (x,vx,z,vz,theta)\n",
    "IC = np.array([ 4. ,2., 7.,1.,1.4])\n",
    "# Which one?\n",
    "key1 = \"N_01_0050\"\n",
    "key2 = \"N_05_0200\"\n",
    "\n",
    "tf = 5\n",
    "N = 100\n",
    "\n",
    "res1 = rk4(lambda t,x: rhs(t,x,data[key1][3]), 0, IC, tf, N)\n",
    "res2 = rk4(lambda t,x: rhs(t,x,data[key2][3]), 0, IC, tf, N)\n",
    "\n",
    "\n",
    "x1 = res1[:,0]\n",
    "vx1 = res1[:,1]\n",
    "z1 = res1[:,2]\n",
    "vz1 = res1[:,3]\n",
    "theta1 = res1[:,4]\n",
    "x2 = res2[:,0]\n",
    "vx2 = res2[:,1]\n",
    "z2 = res2[:,2]\n",
    "vz2 = res2[:,3]\n",
    "theta2 = res2[:,4]\n",
    "t = np.arange(0, tf, tf/ N)"
   ]
  },
  {
   "cell_type": "code",
   "execution_count": 13,
   "metadata": {},
   "outputs": [
    {
     "data": {
      "image/png": "[encoded data removed]",
      "text/plain": [
       "<Figure size 648x504 with 6 Axes>"
      ]
     },
     "metadata": {
      "needs_background": "light"
     },
     "output_type": "display_data"
    }
   ],
   "source": [
    "# And we plot (statically) the resulting trajectories\n",
    "plt.figure(figsize=(9,7))\n",
    "plt.subplot(231)\n",
    "plt.plot(t, x1)\n",
    "plt.plot(t, x2)\n",
    "plt.xlabel(\"t\")\n",
    "plt.ylabel(\"x\")\n",
    "plt.subplot(232)\n",
    "plt.plot(t, vx1)\n",
    "plt.plot(t, vx2)\n",
    "plt.xlabel(\"t\")\n",
    "plt.ylabel(\"vx\")\n",
    "plt.subplot(233)\n",
    "plt.plot(t, z1)\n",
    "plt.plot(t, z2)\n",
    "plt.xlabel(\"t\")\n",
    "plt.ylabel(\"z\")\n",
    "plt.subplot(234)\n",
    "plt.plot(t, vz1)\n",
    "plt.plot(t, vz2)\n",
    "plt.xlabel(\"t\")\n",
    "plt.ylabel(\"vz\")\n",
    "plt.subplot(235)\n",
    "plt.xlabel(\"t\")\n",
    "plt.ylabel(\"theta\")\n",
    "plt.plot(t, theta1)\n",
    "plt.plot(t, theta2)\n",
    "plt.subplot(236)\n",
    "plt.xlabel(\"t\")\n",
    "plt.ylabel(\"theta\")\n",
    "plt.plot(x1, z1)\n",
    "plt.plot(x2, z2)\n",
    "plt.tight_layout()"
   ]
  },
  {
   "cell_type": "code",
   "execution_count": 14,
   "metadata": {},
   "outputs": [
    {
     "data": {
      "text/plain": [
       "(-8, 8)"
      ]
     },
     "execution_count": 14,
     "metadata": {},
     "output_type": "execute_result"
    },
    {
     "data": {
      "image/png": "[encoded data removed]",
      "text/plain": [
       "<Figure size 360x360 with 1 Axes>"
      ]
     },
     "metadata": {
      "needs_background": "light"
     },
     "output_type": "display_data"
    }
   ],
   "source": [
    "def plot_quad_traj(x,z,theta, L, ax):\n",
    "    # Quad Terminal points\n",
    "    x1 = x + L * np.cos(theta)\n",
    "    z1 = z - L * np.sin(theta)\n",
    "    x2 = x - L * np.cos(theta) \n",
    "    z2 = z + L * np.sin(theta) \n",
    "\n",
    "    ax.plot(x,z)\n",
    "    for i in range(len(x1))[::5]:\n",
    "        ax.plot([x1[i],x2[i]], [z1[i],z2[i]],\"k\", alpha=0.5)\n",
    "        ax.scatter(x[i],z[i], s=5,color='k', alpha=0.5)\n",
    "        \n",
    "L=0.4\n",
    "fig = plt.figure(figsize=(5,5))\n",
    "plot_quad_traj(x1,z1,theta1, L,fig.gca())\n",
    "plt.xlim((-8, 8))\n",
    "plt.ylim((-8, 8))\n"
   ]
  },
  {
   "cell_type": "markdown",
   "metadata": {},
   "source": [
    "#### Plots for different initial conditions IC"
   ]
  },
  {
   "cell_type": "code",
   "execution_count": 25,
   "metadata": {},
   "outputs": [
    {
     "name": "stderr",
     "output_type": "stream",
     "text": [
      "100% (99 of 99) |########################| Elapsed Time: 0:00:00 Time:  0:00:00\n",
      "100% (99 of 99) |########################| Elapsed Time: 0:00:00 Time:  0:00:00\n",
      "100% (99 of 99) |########################| Elapsed Time: 0:00:00 Time:  0:00:00\n",
      "100% (99 of 99) |########################| Elapsed Time: 0:00:00 Time:  0:00:00\n"
     ]
    },
    {
     "data": {
      "image/png": "[encoded data removed]",
      "text/plain": [
       "<Figure size 1008x216 with 4 Axes>"
      ]
     },
     "metadata": {
      "needs_background": "light"
     },
     "output_type": "display_data"
    }
   ],
   "source": [
    "IC = []\n",
    "IC.append(np.array([ 4. ,0, 4.,0,0]))\n",
    "IC.append(np.array([ -4. ,0, 0,0,0]))\n",
    "IC.append(np.array([ 0.1 ,4., -4.,-2.,1.4]))\n",
    "IC.append(np.array([ -4. ,1., 4.,3.,0.4]))\n",
    "#IC.append(np.array([ 4. ,1., 4.,1.,-0.4]))\n",
    "#IC.append(np.array([ -4. ,1., 4.,1.,0.4]))\n",
    "L=0.4\n",
    "tf = 3.\n",
    "N = 100\n",
    "\n",
    "fig = plt.figure(figsize=(14,3))\n",
    "for i,x0 in enumerate(IC):\n",
    "    ax = plt.subplot(1,4,i+1)\n",
    "    res = rk4(lambda t,x: rhs(t,x,data[key2][3]), 0, x0, tf, N)\n",
    "    plot_quad_traj(res[:,0],res[:,2],res[:,4], L,ax)\n",
    "    plt.xlim((-5, 5))\n",
    "    plt.ylim((-5, 5))\n",
    "plt.tight_layout()\n",
    "plt.savefig(\"media/trajs.png\")\n"
   ]
  },
  {
   "cell_type": "markdown",
   "metadata": {},
   "source": [
    "### 4 - Analyze the System Stability (linear)\n",
    "\n",
    "The system linear stabilty around the equilibrium point (origin) is studied. \n",
    "\n",
    "Write the overall system as:\n",
    "\n",
    "$$\n",
    "\\dot {\\mathbf x} = \\mathbf f(\\mathbf x)\n",
    "$$\n",
    "\n",
    "introduce the variable $\\mathbf x = \\mathbf x_e + \\delta \\mathbf x$. Then:\n",
    "\n",
    "$$\n",
    "\\dot {\\delta \\mathbf x} = \\nabla \\mathbf f \\cdot \\delta \\mathbf x\n",
    "$$\n",
    "\n",
    "The resulting linear system has an analytical solution readily found by:\n",
    "\n",
    "$$\n",
    "\\delta \\mathbf x = e^{\\mathbf A t} \\delta \\mathbf x_0\n",
    "$$\n",
    "\n",
    "Using the eigen decomposition of the matrix $\\mathbf A$ we may write $\\mathbf A\\mathbf V = \\mathbf V\\mathbf \\Lambda$. Where we have introduced the right eigenvector matrix $\\mathbf V = [\\mathbf v_1, \\mathbf v_2, ...]$ and the eigenvalue matrix $\\mathbf \\Lambda$. \n",
    "\n",
    "Eventually the system dynamics is thus expressed as:\n",
    "\n",
    "$$\n",
    "\\delta \\mathbf x = \\mathbf V^{-1} e^{\\mathbf \\Lambda t} \\mathbf V \n",
    "$$\n",
    "\n",
    "and will thus be some linear combination of terms in the form $e^{-\\lambda_i t}$. The real part of the eigenvalues is then determining the asymptotic behavior of the system (needs to be negative to give asymptotic stability and its magnitude regulates the system damping time), while the imaginary part $\\omega_i$ determines the oscillating behaviour introducing a frequency $f = \\frac {\\omega}{2\\pi}$."
   ]
  },
  {
   "cell_type": "code",
   "execution_count": 16,
   "metadata": {},
   "outputs": [],
   "source": [
    "from pyaudi import gdual_double as gdual\n",
    "from pyaudi import sin, cos, sqrt, tanh\n",
    "\n",
    "# Equilibrium point\n",
    "x_e = [gdual(0., name, 1) for name in [\"x\",\"vx\",\"z\",\"vz\",\"th\"]]"
   ]
  },
  {
   "cell_type": "code",
   "execution_count": 17,
   "metadata": {},
   "outputs": [
    {
     "name": "stderr",
     "output_type": "stream",
     "text": [
      "\r",
      "                                                                               \r",
      "\r",
      "N/A% (0 of 27) |                         | Elapsed Time: 0:00:00 ETA:  --:--:--"
     ]
    },
    {
     "name": "stdout",
     "output_type": "stream",
     "text": [
      "Mode  1 : STABLE! - real\n",
      "\t decay time (10%):  0.21671471091865002 s\n",
      "Mode  2 : STABLE! - complex\n",
      "\t decay time (10%):  1.9440495629128722 s\n",
      "\t period:  2.409671480181647 s\n",
      "Mode  3 : STABLE! - complex\n",
      "\t decay time (10%):  1.9440495629128722 s\n",
      "\t period:  -2.409671480181647 s\n",
      "Mode  4 : STABLE! - real\n",
      "\t decay time (10%):  1.0679848222334882 s\n",
      "Mode  5 : STABLE! - real\n",
      "\t decay time (10%):  2.272721113022433 s\n",
      "Mode  1 : STABLE! - real\n",
      "\t decay time (10%):  0.05249010279533147 s\n",
      "Mode  2 : STABLE! - real\n",
      "\t decay time (10%):  0.08521150207769619 s\n",
      "Mode  3 : STABLE! - real\n",
      "\t decay time (10%):  0.6932690683979219 s\n",
      "Mode  4 : STABLE! - real\n",
      "\t decay time (10%):  1.661833292666766 s\n",
      "Mode  5 : STABLE! - real\n",
      "\t decay time (10%):  1.239655515770746 s\n"
     ]
    },
    {
     "name": "stderr",
     "output_type": "stream",
     "text": [
      "\r",
      "                                                                               \r",
      "\r",
      "  7% (2 of 27) |#                        | Elapsed Time: 0:00:00 ETA:   0:00:01"
     ]
    },
    {
     "name": "stdout",
     "output_type": "stream",
     "text": [
      "Mode  1 : STABLE! - real\n",
      "\t decay time (10%):  0.05109659761947099 s\n",
      "Mode  2 : STABLE! - real\n",
      "\t decay time (10%):  0.03480293826555388 s\n",
      "Mode  3 : STABLE! - complex\n",
      "\t decay time (10%):  1.3794325541361445 s\n",
      "\t period:  2.634563265334635 s\n",
      "Mode  4 : STABLE! - complex\n",
      "\t decay time (10%):  1.3794325541361445 s\n",
      "\t period:  -2.634563265334635 s\n",
      "Mode  5 : STABLE! - real\n",
      "\t decay time (10%):  1.729419527544772 s\n"
     ]
    },
    {
     "name": "stderr",
     "output_type": "stream",
     "text": [
      "\r",
      "                                                                               \r",
      "\r",
      " 11% (3 of 27) |##                       | Elapsed Time: 0:00:00 ETA:   0:00:01"
     ]
    },
    {
     "name": "stdout",
     "output_type": "stream",
     "text": [
      "Mode  1 : STABLE! - real\n",
      "\t decay time (10%):  0.042627482844971275 s\n",
      "Mode  2 : STABLE! - real\n",
      "\t decay time (10%):  0.05636826770432253 s\n",
      "Mode  3 : STABLE! - complex\n",
      "\t decay time (10%):  1.1859649065087463 s\n",
      "\t period:  2.522078774909339 s\n",
      "Mode  4 : STABLE! - complex\n",
      "\t decay time (10%):  1.1859649065087463 s\n",
      "\t period:  -2.522078774909339 s\n",
      "Mode  5 : STABLE! - real\n",
      "\t decay time (10%):  1.2643913597741288 s\n"
     ]
    },
    {
     "name": "stderr",
     "output_type": "stream",
     "text": [
      "\r",
      "                                                                               \r",
      "\r",
      " 14% (4 of 27) |###                      | Elapsed Time: 0:00:00 ETA:   0:00:01"
     ]
    },
    {
     "name": "stdout",
     "output_type": "stream",
     "text": [
      "Mode  1 : STABLE! - real\n",
      "\t decay time (10%):  0.0628872962852525 s\n",
      "Mode  2 : STABLE! - complex\n",
      "\t decay time (10%):  1.1943272976219321 s\n",
      "\t period:  3.1169950952341257 s\n",
      "Mode  3 : STABLE! - complex\n",
      "\t decay time (10%):  1.1943272976219321 s\n",
      "\t period:  -3.1169950952341257 s\n",
      "Mode  4 : STABLE! - complex\n",
      "\t decay time (10%):  0.5220766237937867 s\n",
      "\t period:  3.3213138580662616 s\n",
      "Mode  5 : STABLE! - complex\n",
      "\t decay time (10%):  0.5220766237937867 s\n",
      "\t period:  -3.3213138580662616 s\n"
     ]
    },
    {
     "name": "stderr",
     "output_type": "stream",
     "text": [
      "\r",
      "                                                                               \r",
      "\r",
      " 18% (5 of 27) |####                     | Elapsed Time: 0:00:00 ETA:   0:00:01"
     ]
    },
    {
     "name": "stdout",
     "output_type": "stream",
     "text": [
      "Mode  1 : STABLE! - real\n",
      "\t decay time (10%):  0.0698300958447085 s\n",
      "Mode  2 : STABLE! - complex\n",
      "\t decay time (10%):  0.8859939500999363 s\n",
      "\t period:  2.067751109566369 s\n",
      "Mode  3 : STABLE! - complex\n",
      "\t decay time (10%):  0.8859939500999363 s\n",
      "\t period:  -2.067751109566369 s\n",
      "Mode  4 : STABLE! - real\n",
      "\t decay time (10%):  0.39436671950363544 s\n",
      "Mode  5 : STABLE! - real\n",
      "\t decay time (10%):  0.19402442213493426 s\n"
     ]
    },
    {
     "name": "stderr",
     "output_type": "stream",
     "text": [
      "\r",
      "                                                                               \r",
      "\r",
      " 22% (6 of 27) |#####                    | Elapsed Time: 0:00:00 ETA:   0:00:01"
     ]
    },
    {
     "name": "stdout",
     "output_type": "stream",
     "text": [
      "Mode  1 : STABLE! - real\n",
      "\t decay time (10%):  0.14013760813914575 s\n",
      "Mode  2 : STABLE! - complex\n",
      "\t decay time (10%):  0.58977105517135 s\n",
      "\t period:  2.0026259833748696 s\n",
      "Mode  3 : STABLE! - complex\n",
      "\t decay time (10%):  0.58977105517135 s\n",
      "\t period:  -2.0026259833748696 s\n",
      "Mode  4 : STABLE! - real\n",
      "\t decay time (10%):  0.28265615155726986 s\n",
      "Mode  5 : STABLE! - real\n",
      "\t decay time (10%):  0.26386216117535016 s\n"
     ]
    },
    {
     "name": "stderr",
     "output_type": "stream",
     "text": [
      "\r",
      "                                                                               \r",
      "\r",
      " 25% (7 of 27) |######                   | Elapsed Time: 0:00:00 ETA:   0:00:01"
     ]
    },
    {
     "name": "stdout",
     "output_type": "stream",
     "text": [
      "Mode  1 : STABLE! - real\n",
      "\t decay time (10%):  0.17602216481539948 s\n",
      "Mode  2 : STABLE! - complex\n",
      "\t decay time (10%):  0.7058935881296133 s\n",
      "\t period:  1.2285927024009062 s\n",
      "Mode  3 : STABLE! - complex\n",
      "\t decay time (10%):  0.7058935881296133 s\n",
      "\t period:  -1.2285927024009062 s\n",
      "Mode  4 : STABLE! - complex\n",
      "\t decay time (10%):  0.4577484771933493 s\n",
      "\t period:  8.341137296281216 s\n",
      "Mode  5 : STABLE! - complex\n",
      "\t decay time (10%):  0.4577484771933493 s\n",
      "\t period:  -8.341137296281216 s\n"
     ]
    },
    {
     "name": "stderr",
     "output_type": "stream",
     "text": [
      "\r",
      "                                                                               \r",
      "\r",
      " 29% (8 of 27) |#######                  | Elapsed Time: 0:00:00 ETA:   0:00:01"
     ]
    },
    {
     "name": "stdout",
     "output_type": "stream",
     "text": [
      "Mode  1 : STABLE! - real\n",
      "\t decay time (10%):  0.25938790970590403 s\n",
      "Mode  2 : STABLE! - complex\n",
      "\t decay time (10%):  0.5550463777767413 s\n",
      "\t period:  1.4754283176851244 s\n",
      "Mode  3 : STABLE! - complex\n",
      "\t decay time (10%):  0.5550463777767413 s\n",
      "\t period:  -1.4754283176851244 s\n",
      "Mode  4 : STABLE! - complex\n",
      "\t decay time (10%):  0.781697675932486 s\n",
      "\t period:  2.678618528625344 s\n",
      "Mode  5 : STABLE! - complex\n",
      "\t decay time (10%):  0.781697675932486 s\n",
      "\t period:  -2.678618528625344 s\n"
     ]
    },
    {
     "name": "stderr",
     "output_type": "stream",
     "text": [
      "\r",
      "                                                                               \r",
      "\r",
      " 33% (9 of 27) |########                 | Elapsed Time: 0:00:00 ETA:   0:00:01"
     ]
    },
    {
     "name": "stdout",
     "output_type": "stream",
     "text": [
      "Mode  1 : STABLE! - real\n",
      "\t decay time (10%):  0.22771645063696455 s\n",
      "Mode  2 : STABLE! - complex\n",
      "\t decay time (10%):  1.7296950324462173 s\n",
      "\t period:  2.481006068262211 s\n",
      "Mode  3 : STABLE! - complex\n",
      "\t decay time (10%):  1.7296950324462173 s\n",
      "\t period:  -2.481006068262211 s\n",
      "Mode  4 : STABLE! - real\n",
      "\t decay time (10%):  0.9270074589985933 s\n",
      "Mode  5 : STABLE! - real\n",
      "\t decay time (10%):  1.968105821546167 s\n",
      "Mode  1 : STABLE! - real\n",
      "\t decay time (10%):  0.04393722001063996 s\n",
      "Mode  2 : STABLE! - real\n",
      "\t decay time (10%):  0.04877783164271212 s\n",
      "Mode  3 : STABLE! - complex\n",
      "\t decay time (10%):  2.086589033825535 s\n",
      "\t period:  3.8002311527726413 s\n",
      "Mode  4 : STABLE! - complex\n",
      "\t decay time (10%):  2.086589033825535 s\n",
      "\t period:  -3.8002311527726413 s\n",
      "Mode  5 : STABLE! - real\n",
      "\t decay time (10%):  1.690442771116816 s\n"
     ]
    },
    {
     "name": "stderr",
     "output_type": "stream",
     "text": [
      "\r",
      "                                                                               \r",
      "\r",
      " 40% (11 of 27) |#########               | Elapsed Time: 0:00:01 ETA:   0:00:01"
     ]
    },
    {
     "name": "stdout",
     "output_type": "stream",
     "text": [
      "Mode  1 : STABLE! - real\n",
      "\t decay time (10%):  0.044742920666753574 s\n",
      "Mode  2 : STABLE! - real\n",
      "\t decay time (10%):  0.03360179684536022 s\n",
      "Mode  3 : STABLE! - complex\n",
      "\t decay time (10%):  0.8527648923632144 s\n",
      "\t period:  3.592605057745465 s\n",
      "Mode  4 : STABLE! - complex\n",
      "\t decay time (10%):  0.8527648923632144 s\n",
      "\t period:  -3.592605057745465 s\n",
      "Mode  5 : STABLE! - real\n",
      "\t decay time (10%):  1.8026112464952613 s\n"
     ]
    },
    {
     "name": "stderr",
     "output_type": "stream",
     "text": [
      "\r",
      "                                                                               \r",
      "\r",
      " 44% (12 of 27) |##########              | Elapsed Time: 0:00:01 ETA:   0:00:01"
     ]
    },
    {
     "name": "stdout",
     "output_type": "stream",
     "text": [
      "Mode  1 : STABLE! - real\n",
      "\t decay time (10%):  0.05150319028351541 s\n",
      "Mode  2 : STABLE! - real\n",
      "\t decay time (10%):  0.16869667536792857 s\n",
      "Mode  3 : STABLE! - real\n",
      "\t decay time (10%):  2.5429863895757694 s\n",
      "Mode  4 : STABLE! - real\n",
      "\t decay time (10%):  1.1685420059685154 s\n",
      "Mode  5 : STABLE! - real\n",
      "\t decay time (10%):  1.0243891470121513 s\n"
     ]
    },
    {
     "name": "stderr",
     "output_type": "stream",
     "text": [
      "\r",
      "                                                                               \r",
      "\r",
      " 48% (13 of 27) |###########             | Elapsed Time: 0:00:01 ETA:   0:00:01"
     ]
    },
    {
     "name": "stdout",
     "output_type": "stream",
     "text": [
      "Mode  1 : STABLE! - real\n",
      "\t decay time (10%):  0.06215263925145467 s\n",
      "Mode  2 : STABLE! - real\n",
      "\t decay time (10%):  0.19271545415771474 s\n",
      "Mode  3 : STABLE! - real\n",
      "\t decay time (10%):  0.6224959180237549 s\n",
      "Mode  4 : STABLE! - real\n",
      "\t decay time (10%):  1.5192161296587856 s\n",
      "Mode  5 : STABLE! - real\n",
      "\t decay time (10%):  1.1888245276620524 s\n"
     ]
    },
    {
     "name": "stderr",
     "output_type": "stream",
     "text": [
      "\r",
      "                                                                               \r",
      "\r",
      " 51% (14 of 27) |############            | Elapsed Time: 0:00:01 ETA:   0:00:01"
     ]
    },
    {
     "name": "stdout",
     "output_type": "stream",
     "text": [
      "Mode  1 : STABLE! - real\n",
      "\t decay time (10%):  0.19500837629661644 s\n",
      "Mode  2 : STABLE! - complex\n",
      "\t decay time (10%):  0.5037841765825694 s\n",
      "\t period:  1.1936018981643615 s\n",
      "Mode  3 : STABLE! - complex\n",
      "\t decay time (10%):  0.5037841765825694 s\n",
      "\t period:  -1.1936018981643615 s\n",
      "Mode  4 : STABLE! - real\n",
      "\t decay time (10%):  1.3988429755131588 s\n",
      "Mode  5 : STABLE! - real\n",
      "\t decay time (10%):  0.5284989976451683 s\n"
     ]
    },
    {
     "name": "stderr",
     "output_type": "stream",
     "text": [
      "\r",
      "                                                                               \r",
      "\r",
      " 55% (15 of 27) |#############           | Elapsed Time: 0:00:02 ETA:   0:00:02"
     ]
    },
    {
     "name": "stdout",
     "output_type": "stream",
     "text": [
      "Mode  1 : STABLE! - real\n",
      "\t decay time (10%):  1.6963813102412095 s\n",
      "Mode  2 : STABLE! - complex\n",
      "\t decay time (10%):  0.3912642145362638 s\n",
      "\t period:  1.060074486078142 s\n",
      "Mode  3 : STABLE! - complex\n",
      "\t decay time (10%):  0.3912642145362638 s\n",
      "\t period:  -1.060074486078142 s\n",
      "Mode  4 : STABLE! - real\n",
      "\t decay time (10%):  0.20504104510057583 s\n",
      "Mode  5 : STABLE! - real\n",
      "\t decay time (10%):  0.32039326215356856 s\n"
     ]
    },
    {
     "name": "stderr",
     "output_type": "stream",
     "text": [
      "\r",
      "                                                                               \r",
      "\r",
      " 59% (16 of 27) |##############          | Elapsed Time: 0:00:02 ETA:   0:00:02"
     ]
    },
    {
     "name": "stdout",
     "output_type": "stream",
     "text": [
      "Mode  1 : STABLE! - complex\n",
      "\t decay time (10%):  0.22580734098659147 s\n",
      "\t period:  0.5617841970795504 s\n",
      "Mode  2 : STABLE! - complex\n",
      "\t decay time (10%):  0.22580734098659147 s\n",
      "\t period:  -0.5617841970795504 s\n",
      "Mode  3 : UNSTABLE!\n",
      "Mode  4 : STABLE! - complex\n",
      "\t decay time (10%):  0.6658571034440914 s\n",
      "\t period:  3.786858341492705 s\n",
      "Mode  5 : STABLE! - complex\n",
      "\t decay time (10%):  0.6658571034440914 s\n",
      "\t period:  -3.786858341492705 s\n"
     ]
    },
    {
     "name": "stderr",
     "output_type": "stream",
     "text": [
      "\r",
      "                                                                               \r",
      "\r",
      " 62% (17 of 27) |###############         | Elapsed Time: 0:00:03 ETA:   0:00:02"
     ]
    },
    {
     "name": "stdout",
     "output_type": "stream",
     "text": [
      "Mode  1 : STABLE! - complex\n",
      "\t decay time (10%):  0.22301019371425762 s\n",
      "\t period:  0.5184148803646046 s\n",
      "Mode  2 : STABLE! - complex\n",
      "\t decay time (10%):  0.22301019371425762 s\n",
      "\t period:  -0.5184148803646046 s\n",
      "Mode  3 : STABLE! - real\n",
      "\t decay time (10%):  2.1317631559405656 s\n",
      "Mode  4 : STABLE! - complex\n",
      "\t decay time (10%):  0.411021474664928 s\n",
      "\t period:  0.5625833911337534 s\n",
      "Mode  5 : STABLE! - complex\n",
      "\t decay time (10%):  0.411021474664928 s\n",
      "\t period:  -0.5625833911337534 s\n"
     ]
    },
    {
     "name": "stderr",
     "output_type": "stream",
     "text": [
      "\r",
      "                                                                               \r",
      "\r",
      " 66% (18 of 27) |################        | Elapsed Time: 0:00:03 ETA:   0:00:03"
     ]
    },
    {
     "name": "stdout",
     "output_type": "stream",
     "text": [
      "Mode  1 : STABLE! - real\n",
      "\t decay time (10%):  0.22639560234903028 s\n",
      "Mode  2 : STABLE! - complex\n",
      "\t decay time (10%):  1.4695169557440189 s\n",
      "\t period:  2.5603042073533584 s\n",
      "Mode  3 : STABLE! - complex\n",
      "\t decay time (10%):  1.4695169557440189 s\n",
      "\t period:  -2.5603042073533584 s\n",
      "Mode  4 : STABLE! - real\n",
      "\t decay time (10%):  0.8290671375140839 s\n",
      "Mode  5 : STABLE! - real\n",
      "\t decay time (10%):  1.643917366311823 s\n"
     ]
    },
    {
     "name": "stderr",
     "output_type": "stream",
     "text": [
      "\r",
      "                                                                               \r",
      "\r",
      " 70% (19 of 27) |################        | Elapsed Time: 0:00:03 ETA:   0:00:03"
     ]
    },
    {
     "name": "stdout",
     "output_type": "stream",
     "text": [
      "Mode  1 : STABLE! - real\n",
      "\t decay time (10%):  0.03957586923997139 s\n",
      "Mode  2 : STABLE! - real\n",
      "\t decay time (10%):  0.04603313786844952 s\n",
      "Mode  3 : STABLE! - complex\n",
      "\t decay time (10%):  1.6087773165116663 s\n",
      "\t period:  3.174013311641849 s\n",
      "Mode  4 : STABLE! - complex\n",
      "\t decay time (10%):  1.6087773165116663 s\n",
      "\t period:  -3.174013311641849 s\n",
      "Mode  5 : STABLE! - real\n",
      "\t decay time (10%):  1.93500323512666 s\n"
     ]
    },
    {
     "name": "stderr",
     "output_type": "stream",
     "text": [
      "\r",
      "                                                                               \r",
      "\r",
      " 74% (20 of 27) |#################       | Elapsed Time: 0:00:03 ETA:   0:00:02"
     ]
    },
    {
     "name": "stdout",
     "output_type": "stream",
     "text": [
      "Mode  1 : STABLE! - real\n",
      "\t decay time (10%):  0.03811934797470756 s\n",
      "Mode  2 : STABLE! - real\n",
      "\t decay time (10%):  0.03772697188813626 s\n",
      "Mode  3 : STABLE! - complex\n",
      "\t decay time (10%):  1.0880388181349752 s\n",
      "\t period:  3.2092305492054254 s\n",
      "Mode  4 : STABLE! - complex\n",
      "\t decay time (10%):  1.0880388181349752 s\n",
      "\t period:  -3.2092305492054254 s\n",
      "Mode  5 : STABLE! - real\n",
      "\t decay time (10%):  1.3888571960654756 s\n"
     ]
    },
    {
     "name": "stderr",
     "output_type": "stream",
     "text": [
      "\r",
      "                                                                               \r",
      "\r",
      " 77% (21 of 27) |##################      | Elapsed Time: 0:00:04 ETA:   0:00:02"
     ]
    },
    {
     "name": "stdout",
     "output_type": "stream",
     "text": [
      "Mode  1 : STABLE! - real\n",
      "\t decay time (10%):  0.07970177720508569 s\n",
      "Mode  2 : STABLE! - complex\n",
      "\t decay time (10%):  2.334206598617958 s\n",
      "\t period:  3.8952754986709754 s\n",
      "Mode  3 : STABLE! - complex\n",
      "\t decay time (10%):  2.334206598617958 s\n",
      "\t period:  -3.8952754986709754 s\n",
      "Mode  4 : STABLE! - complex\n",
      "\t decay time (10%):  0.4470473890320613 s\n",
      "\t period:  1.7083971673631766 s\n",
      "Mode  5 : STABLE! - complex\n",
      "\t decay time (10%):  0.4470473890320613 s\n",
      "\t period:  -1.7083971673631766 s\n"
     ]
    },
    {
     "name": "stderr",
     "output_type": "stream",
     "text": [
      "\r",
      "                                                                               \r",
      "\r",
      " 81% (22 of 27) |###################     | Elapsed Time: 0:00:05 ETA:   0:00:02"
     ]
    },
    {
     "name": "stdout",
     "output_type": "stream",
     "text": [
      "Mode  1 : STABLE! - real\n",
      "\t decay time (10%):  0.11838296454830727 s\n",
      "Mode  2 : STABLE! - real\n",
      "\t decay time (10%):  0.21112010969826 s\n",
      "Mode  3 : STABLE! - complex\n",
      "\t decay time (10%):  1.1761037119012663 s\n",
      "\t period:  4.370677129127666 s\n",
      "Mode  4 : STABLE! - complex\n",
      "\t decay time (10%):  1.1761037119012663 s\n",
      "\t period:  -4.370677129127666 s\n",
      "Mode  5 : STABLE! - real\n",
      "\t decay time (10%):  0.4518137280194401 s\n"
     ]
    },
    {
     "name": "stderr",
     "output_type": "stream",
     "text": [
      "\r",
      "                                                                               \r",
      "\r",
      " 85% (23 of 27) |####################    | Elapsed Time: 0:00:06 ETA:   0:00:03"
     ]
    },
    {
     "name": "stdout",
     "output_type": "stream",
     "text": [
      "Mode  1 : STABLE! - real\n",
      "\t decay time (10%):  0.06598617840115302 s\n",
      "Mode  2 : STABLE! - real\n",
      "\t decay time (10%):  0.22571715258977018 s\n",
      "Mode  3 : UNSTABLE!\n",
      "Mode  4 : STABLE! - real\n",
      "\t decay time (10%):  0.45217414757027524 s\n",
      "Mode  5 : STABLE! - real\n",
      "\t decay time (10%):  1.3754616732380451 s\n"
     ]
    },
    {
     "name": "stderr",
     "output_type": "stream",
     "text": [
      "\r",
      "                                                                               \r",
      "\r",
      " 88% (24 of 27) |#####################   | Elapsed Time: 0:00:07 ETA:   0:00:02"
     ]
    },
    {
     "name": "stdout",
     "output_type": "stream",
     "text": [
      "Mode  1 : STABLE! - real\n",
      "\t decay time (10%):  1.2959723307590643 s\n",
      "Mode  2 : STABLE! - complex\n",
      "\t decay time (10%):  0.44104189614062733 s\n",
      "\t period:  1.2321394449877832 s\n",
      "Mode  3 : STABLE! - complex\n",
      "\t decay time (10%):  0.44104189614062733 s\n",
      "\t period:  -1.2321394449877832 s\n",
      "Mode  4 : STABLE! - real\n",
      "\t decay time (10%):  0.126417716214031 s\n",
      "Mode  5 : STABLE! - real\n",
      "\t decay time (10%):  0.19880617936116188 s\n"
     ]
    },
    {
     "name": "stderr",
     "output_type": "stream",
     "text": [
      "\r",
      "                                                                               \r",
      "\r",
      " 92% (25 of 27) |######################  | Elapsed Time: 0:00:08 ETA:   0:00:02"
     ]
    },
    {
     "name": "stdout",
     "output_type": "stream",
     "text": [
      "Mode  1 : STABLE! - real\n",
      "\t decay time (10%):  1.3912944621852594 s\n",
      "Mode  2 : STABLE! - complex\n",
      "\t decay time (10%):  0.40396308844130213 s\n",
      "\t period:  1.3011331444508853 s\n",
      "Mode  3 : STABLE! - complex\n",
      "\t decay time (10%):  0.40396308844130213 s\n",
      "\t period:  -1.3011331444508853 s\n",
      "Mode  4 : STABLE! - real\n",
      "\t decay time (10%):  0.21964604256819553 s\n",
      "Mode  5 : STABLE! - real\n",
      "\t decay time (10%):  0.08086225135109637 s\n"
     ]
    },
    {
     "name": "stderr",
     "output_type": "stream",
     "text": [
      "\r",
      "                                                                               \r",
      "\r",
      " 96% (26 of 27) |####################### | Elapsed Time: 0:00:10 ETA:   0:00:01"
     ]
    },
    {
     "name": "stdout",
     "output_type": "stream",
     "text": [
      "Mode  1 : STABLE! - real\n",
      "\t decay time (10%):  0.044707367588756715 s\n",
      "Mode  2 : STABLE! - complex\n",
      "\t decay time (10%):  0.1336623231774951 s\n",
      "\t period:  0.5385369161553974 s\n",
      "Mode  3 : STABLE! - complex\n",
      "\t decay time (10%):  0.1336623231774951 s\n",
      "\t period:  -0.5385369161553974 s\n",
      "Mode  4 : STABLE! - real\n",
      "\t decay time (10%):  0.885465961582638 s\n",
      "Mode  5 : STABLE! - real\n",
      "\t decay time (10%):  0.419944849732133 s\n"
     ]
    },
    {
     "name": "stderr",
     "output_type": "stream",
     "text": [
      "100% (27 of 27) |########################| Elapsed Time: 0:00:11 Time:  0:00:11\n"
     ]
    }
   ],
   "source": [
    "for N in progressbar.progressbar(data):\n",
    "    # We compute the gradient of the rhs\n",
    "    lin_dyn = rhs(0, x_e, data[N][3])\n",
    "    ss = [\"dx\", \"dvx\", \"dz\", \"dvz\", \"dth\"]\n",
    "    _ = [a.extend_symbol_set(ss) for a in lin_dyn]\n",
    "    A = np.eye(5)\n",
    "    for i in range(5):\n",
    "        for  j in range(5):\n",
    "            A[i,j] = lin_dyn[i].get_derivative({ss[j] : 1})\n",
    "            lambdas, eigv = np.linalg.eig(A)\n",
    "    decay = []\n",
    "    freq = []\n",
    "    for i, lam in enumerate(lambdas):\n",
    "        alpha = lam.real\n",
    "        beta = lam.imag\n",
    "        print(\"Mode \", i+1, \": \", end='', flush=True)\n",
    "        if alpha < 0:\n",
    "            print(\"STABLE!\", end = '', flush=True)\n",
    "            if beta!=0:\n",
    "                print(\" - complex\", end='')\n",
    "                print(\"\\n\\t decay time (10%): \", np.log(0.1)/alpha, \"s\")\n",
    "                print(\"\\t period: \", 2*np.pi/beta, \"s\", flush=True)\n",
    "                decay.append(np.log(0.1)/alpha)\n",
    "                freq.append(2*np.pi/beta)\n",
    "            else:\n",
    "                print(\" - real\", end='')\n",
    "                print(\"\\n\\t decay time (10%): \", np.log(0.1)/alpha, \"s\", flush=True)\n",
    "                decay.append(np.log(0.1)/alpha)\n",
    "                freq.append(0)\n",
    "        else:\n",
    "            print(\"UNSTABLE!\", flush=True)\n",
    "    data[N][4] = max(decay)\n",
    "    data[N][5] = max(freq)\n"
   ]
  },
  {
   "cell_type": "markdown",
   "metadata": {},
   "source": [
    "### 5 - Analyze the System Stability to time delays (linear)\n",
    "\n",
    "The system linear stabilty around the equilibrium point (origin) is studied when a time delay $\\tau$ is introduced in the control input.\n",
    "\n",
    "We write the overall system as:\n",
    "\n",
    "$$\n",
    "\\dot {\\mathbf x} = \\mathbf f(\\mathbf x, \\mathbf x^\\tau)\n",
    "$$\n",
    "\n",
    "and, again considering small displacements around the stable equilibrium point at the origin, we have the representation:\n",
    "\n",
    "$$\n",
    "\\dot {\\delta \\mathbf x} = \\mathbf A \\delta \\mathbf x + \\mathbf B \\delta \\mathbf x^\\tau \n",
    "$$\n",
    "\n",
    "where we have used the notation $\\mathbf x = \\mathbf x(t)$, $\\mathbf x^\\tau = \\mathbf x(t-\\tau)$.\n",
    "\n",
    "This linear system with time delay has the general solution:\n",
    "\n",
    "$$\n",
    "\\delta \\mathbf x(t) = e^{\\Phi t}\\mathbf x_0\n",
    "$$\n",
    "\n",
    "where the matrix $\\mathbf \\Phi$ eigenvalues are obtained from the time-delayed characteristic equation:\n",
    "\n",
    "$$\n",
    "\\left|\\mathbf A + \\mathbf Be^{-\\lambda \\tau} - \\lambda\\mathbf I\\right| = 0\n",
    "$$\n",
    "\n",
    "note that for $\\tau =0$ (no delay) we recover the stability study of the undelayed system.\n"
   ]
  },
  {
   "cell_type": "code",
   "execution_count": 18,
   "metadata": {},
   "outputs": [],
   "source": [
    "# We write the dynamics as a function of both the signal and the delayed signal\n",
    "def rhs_delay(t, x, xtau, uc):\n",
    "    u = uc.compute_control(xtau)\n",
    "    return np.array([\n",
    "        x[1],\n",
    "        - 0.5 * x[1] + u[0]/m * sin(x[4]),\n",
    "        x[3],\n",
    "        -0.5 * x[3] - g0 + u[0]/m * cos(x[4]),\n",
    "         u[1],\n",
    "    ])\n",
    "# This must be zero if x[0] is the crossing of the imaginary axis and x[1] the time delay when it happens.\n",
    "def stability_margin(x, A, B):\n",
    "    # x is [imag, tau], real assumed to be zero\n",
    "    lam = 1j*x[0]\n",
    "    det = np.linalg.det(B*np.exp(-lam*x[1])+A-lam*np.eye(5))\n",
    "    return [det.real, det.imag]"
   ]
  },
  {
   "cell_type": "code",
   "execution_count": 19,
   "metadata": {},
   "outputs": [
    {
     "name": "stdout",
     "output_type": "stream",
     "text": [
      "Margin found is:  0.20794780868224524 s\n",
      "Precision obtained:  1.4620206789622657e-11\n",
      "Margin found is:  0.03402207468381527 s\n",
      "Precision obtained:  5.103187432895776e-09\n",
      "Margin found is:  0.02329389740663501 s\n",
      "Precision obtained:  6.062878446064337e-07\n",
      "Margin found is:  0.026251159885135666 s\n",
      "Precision obtained:  1.8065441474089428e-07\n",
      "Margin found is:  0.03698958466019295 s\n",
      "Precision obtained:  5.1062759411947e-08\n",
      "Margin found is:  0.03857632718470523 s\n",
      "Precision obtained:  9.708143359278332e-08\n",
      "Margin found is:  0.05575360646392181 s\n",
      "Precision obtained:  9.229510176712437e-10\n",
      "Margin found is:  0.09807763482389341 s\n",
      "Precision obtained:  2.43990947712551e-11\n",
      "Margin found is:  0.091298091738619 s\n",
      "Precision obtained:  8.278552803392481e-10\n",
      "Margin found is:  0.20572815303529085 s\n",
      "Precision obtained:  6.84276890805518e-13\n",
      "Margin found is:  0.029307097328132827 s\n",
      "Precision obtained:  1.1810075192101433e-08\n",
      "Margin found is:  0.022505276283772937 s\n",
      "Precision obtained:  6.005310467128298e-08\n",
      "Margin found is:  0.03192424012567151 s\n",
      "Precision obtained:  2.386914711856347e-07\n",
      "Margin found is:  0.03700388222765356 s\n",
      "Precision obtained:  4.055482064011014e-09\n",
      "Margin found is:  0.09260126099949917 s\n",
      "Precision obtained:  6.931866640840871e-09\n",
      "Margin found is:  0.08576838580792549 s\n",
      "Precision obtained:  1.2593052274874624e-11\n",
      "Margin found is:  0.04961054025173196 s\n",
      "Precision obtained:  1.5074955078624212e-08\n",
      "Margin found is:  0.047339082605339824 s\n",
      "Precision obtained:  3.026861478892764e-08\n",
      "Margin found is:  0.1935273157040477 s\n",
      "Precision obtained:  1.972934152390819e-13\n",
      "Margin found is:  0.029164665442399967 s\n",
      "Precision obtained:  1.600182303450118e-08\n",
      "Margin found is:  0.023732731291678247 s\n",
      "Precision obtained:  1.6223264819132813e-05\n",
      "Margin found is:  0.05013951443838847 s\n",
      "Precision obtained:  5.84392585642448e-09\n",
      "Margin found is:  0.060450911992779494 s\n",
      "Precision obtained:  1.5364213342308787e-10\n",
      "Margin found is:  0.03700401718928072 s\n",
      "Precision obtained:  7.567004278076004e-09\n",
      "Margin found is:  0.04979196515884969 s\n",
      "Precision obtained:  6.589203814127196e-09\n",
      "Margin found is:  0.04186906927218448 s\n",
      "Precision obtained:  2.8868631790247256e-08\n",
      "Margin found is:  0.023972850648217314 s\n",
      "Precision obtained:  6.2285949289879625e-06\n"
     ]
    }
   ],
   "source": [
    "for N in data:\n",
    "    # We compute the gradient of rhs_delay w.r.t. x and thus A (we call it Ad to retain A in the notebook)\n",
    "    xtau_e = [gdual(0., name, 1) for name in [\"xt\",\"vxt\",\"zt\",\"vzt\",\"tht\"]]\n",
    "    lin_dyn = rhs_delay(0., x_e, xtau_e, data[N][3])\n",
    "    ss = [\"dx\", \"dvx\", \"dz\", \"dvz\", \"dth\", \"dxt\", \"dvxt\", \"dzt\", \"dvzt\", \"dtht\"]\n",
    "    _ = [a.extend_symbol_set(ss) for a in lin_dyn]\n",
    "    Ad = np.eye(5)\n",
    "    for i in range(5):\n",
    "        for  j in range(5):\n",
    "            if lin_dyn[i].order == 0: # its a constant\n",
    "                Ad[i,j] = 0\n",
    "            else:\n",
    "                Ad[i,j] = lin_dyn[i].get_derivative({ss[j] : 1})\n",
    "    # We compute the gradient of rhs_delay w.r.t. x_tau and thus B (we call it Bu to retain B in the notebook)\n",
    "    #lin_dyn = rhs_delay(0., x_e, xtau_e)\n",
    "    #ss = [\"dx\", \"dvx\", \"dz\", \"dvz\", \"dth\", \"dxt\", \"dvxt\", \"dzt\", \"dvzt\", \"dtht\"]\n",
    "    #_ = [a.extend_symbol_set(ss) for a in lin_dyn]\n",
    "    Bu = np.eye(5)\n",
    "    for i in range(5):\n",
    "        for  j in range(5):\n",
    "            if lin_dyn[i].order == 0: # its a constant\n",
    "                Bu[i,j] = 0\n",
    "            else:\n",
    "                Bu[i,j] = lin_dyn[i].get_derivative({ss[j+5] : 1})\n",
    "    from scipy.optimize import root\n",
    "    sol = root(stability_margin, [100, 0.005], (Ad, Bu), tol=1e-10)\n",
    "    print(\"Margin found is: \", sol.x[1], \"s\")\n",
    "    print(\"Precision obtained: \", np.linalg.norm(stability_margin(sol.x, Ad, Bu)))\n",
    "    data[N][6] = sol.x[1]"
   ]
  },
  {
   "cell_type": "code",
   "execution_count": 20,
   "metadata": {},
   "outputs": [
    {
     "name": "stdout",
     "output_type": "stream",
     "text": [
      "$\\mathcal N^{50}_{1}$ & 2.27s & 2.41s & 0.208s \\\\\n",
      "$\\mathcal N^{50}_{2}$ & 1.66s & 0.00s & 0.034s \\\\\n",
      "$\\mathcal N^{50}_{3}$ & 1.73s & 2.63s & 0.023s \\\\\n",
      "$\\mathcal N^{50}_{4}$ & 1.26s & 2.52s & 0.026s \\\\\n",
      "$\\mathcal N^{50}_{5}$ & 1.19s & 3.32s & 0.037s \\\\\n",
      "$\\mathcal N^{50}_{6}$ & 0.89s & 2.07s & 0.039s \\\\\n",
      "$\\mathcal N^{50}_{7}$ & 0.59s & 2.00s & 0.056s \\\\\n",
      "$\\mathcal N^{50}_{8}$ & 0.71s & 8.34s & 0.098s \\\\\n",
      "$\\mathcal N^{50}_{9}$ & 0.78s & 2.68s & 0.091s \\\\\n",
      "$\\mathcal N^{100}_{1}$ & 1.97s & 2.48s & 0.206s \\\\\n",
      "$\\mathcal N^{100}_{2}$ & 2.09s & 3.80s & 0.029s \\\\\n",
      "$\\mathcal N^{100}_{3}$ & 1.80s & 3.59s & 0.023s \\\\\n",
      "$\\mathcal N^{100}_{4}$ & 2.54s & 0.00s & 0.032s \\\\\n",
      "$\\mathcal N^{100}_{5}$ & 1.52s & 0.00s & 0.037s \\\\\n",
      "$\\mathcal N^{100}_{6}$ & 1.40s & 1.19s & 0.093s \\\\\n",
      "$\\mathcal N^{100}_{7}$ & 1.70s & 1.06s & 0.086s \\\\\n",
      "$\\mathcal N^{100}_{8}$ & 0.67s & 3.79s & 0.050s \\\\\n",
      "$\\mathcal N^{100}_{9}$ & 2.13s & 0.56s & 0.047s \\\\\n",
      "$\\mathcal N^{200}_{1}$ & 1.64s & 2.56s & 0.194s \\\\\n",
      "$\\mathcal N^{200}_{2}$ & 1.94s & 3.17s & 0.029s \\\\\n",
      "$\\mathcal N^{200}_{3}$ & 1.39s & 3.21s & 0.024s \\\\\n",
      "$\\mathcal N^{200}_{4}$ & 2.33s & 3.90s & 0.050s \\\\\n",
      "$\\mathcal N^{200}_{5}$ & 1.18s & 4.37s & 0.060s \\\\\n",
      "$\\mathcal N^{200}_{6}$ & 1.38s & 0.00s & 0.037s \\\\\n",
      "$\\mathcal N^{200}_{7}$ & 1.30s & 1.23s & 0.050s \\\\\n",
      "$\\mathcal N^{200}_{8}$ & 1.39s & 1.30s & 0.042s \\\\\n",
      "$\\mathcal N^{200}_{9}$ & 0.89s & 0.54s & 0.024s \\\\\n"
     ]
    }
   ],
   "source": [
    "# Compile a table for the paper\n",
    "# [path, bias, error in equilibrium, controller, damp, freq, timedelay]\n",
    "for N in data:\n",
    "    print(\"$\\mathcal N^{{{}}}_{{{}}}$ & {:0.2f}s & {:0.2f}s & {:0.3f}s \\\\\\\\\".format(int(N[-4:]), int(N[2:4]), data[N][4], data[N][5], data[N][6]))"
   ]
  },
  {
   "cell_type": "markdown",
   "metadata": {},
   "source": [
    "# Finding the delay with pade approximant"
   ]
  },
  {
   "cell_type": "code",
   "execution_count": 23,
   "metadata": {},
   "outputs": [
    {
     "name": "stdout",
     "output_type": "stream",
     "text": [
      "Critical delay: 0.13728961980990495\n",
      "Critical delay: 0.034031840920460237\n",
      "Critical delay: 0.023308629314657332\n",
      "Critical delay: 0.026233141570785393\n",
      "Critical delay: 0.0369563531765883\n",
      "Critical delay: 0.03860607803901951\n",
      "Critical delay: 0.05577821410705353\n",
      "Critical delay: 0.06867606303151577\n",
      "Critical delay: 0.09132228614307154\n",
      "Critical delay: 0.13961423211605806\n",
      "Critical delay: 0.029307628814407204\n",
      "Critical delay: 0.022483766883441725\n",
      "Critical delay: 0.03193219109554778\n",
      "Critical delay: 0.03703134067033517\n",
      "Critical delay: 0.0911723111555778\n",
      "Critical delay: 0.07092568784392198\n",
      "Critical delay: 0.07504999999999999\n",
      "Critical delay: 0.04730462731365684\n",
      "Critical delay: 0.13444009504752374\n",
      "Critical delay: 0.026458104052026015\n",
      "Critical delay: 0.02375855427713857\n",
      "Critical delay: 0.05015415207603803\n",
      "Critical delay: 0.06042743871935969\n",
      "Critical delay: 0.07504999999999999\n",
      "Critical delay: 0.04977921460730366\n",
      "Critical delay: 0.04190552776388195\n",
      "Critical delay: 0.02398351675837919\n"
     ]
    }
   ],
   "source": [
    "# find the maximum allowable delay\n",
    "import numpy as np\n",
    "import scipy.linalg as scl\n",
    "import matplotlib.pyplot as plt\n",
    "import control\n",
    "\n",
    "def find_timedelay_pade(A, B, norder = 5, ntau = 100):\n",
    "    tau_vec = np.linspace(0.0001, 0.15, ntau)\n",
    "    del_crit = 0.\n",
    "    for ik in range(0,ntau):\n",
    "        # calculate the delay\n",
    "        nump, denp = control.pade(tau_vec[ik], norder)\n",
    "        Ap, Bp, Cp, Dp = control.ssdata(control.tf2ss(nump, denp))\n",
    "        \n",
    "        Ap = scl.block_diag(*((Ap,)*nstate))\n",
    "        Bp = scl.block_diag(*((Bp,)*nstate))\n",
    "        Cp = scl.block_diag(*((Cp,)*nstate))\n",
    "        Dp = scl.block_diag(*((Dp,)*nstate))\n",
    "\n",
    "        # interconnect the system\n",
    "        Ad11 = A+np.matmul(B,Dp)\n",
    "        Ad12 = np.matmul(B,Cp)\n",
    "        Ad1 = np.concatenate((Ad11,Ad12), axis=1)\n",
    "        Ad2 = np.concatenate((Bp,Ap), axis=1)\n",
    "        Ad = np.concatenate((Ad1,Ad2), axis=0)\n",
    "\n",
    "        eig_tmp = np.linalg.eigvals(Ad)\n",
    "\n",
    "        if np.any(np.real(eig_tmp)>0):\n",
    "            del_crit = 0.5*(tau_vec[ik] + tau_vec[ik-1])\n",
    "            break\n",
    "\n",
    "    return del_crit\n",
    "\n",
    "# do the calculations\n",
    "norder = 5\n",
    "ntau = 2000\n",
    "nstate = A.shape[0]\n",
    "for N in data:\n",
    "    # We compute the gradient of rhs_delay w.r.t. x and thus A (we call it Ad to retain A in the notebook)\n",
    "    xtau_e = [gdual(0., name, 1) for name in [\"xt\",\"vxt\",\"zt\",\"vzt\",\"tht\"]]\n",
    "    lin_dyn = rhs_delay(0., x_e, xtau_e, data[N][3])\n",
    "    ss = [\"dx\", \"dvx\", \"dz\", \"dvz\", \"dth\", \"dxt\", \"dvxt\", \"dzt\", \"dvzt\", \"dtht\"]\n",
    "    _ = [a.extend_symbol_set(ss) for a in lin_dyn]\n",
    "    Ad = np.eye(5)\n",
    "    for i in range(5):\n",
    "        for  j in range(5):\n",
    "            if lin_dyn[i].order == 0: # its a constant\n",
    "                Ad[i,j] = 0\n",
    "            else:\n",
    "                Ad[i,j] = lin_dyn[i].get_derivative({ss[j] : 1})\n",
    "    # We compute the gradient of rhs_delay w.r.t. x_tau and thus B (we call it Bu to retain B in the notebook)\n",
    "    #lin_dyn = rhs_delay(0., x_e, xtau_e)\n",
    "    #ss = [\"dx\", \"dvx\", \"dz\", \"dvz\", \"dth\", \"dxt\", \"dvxt\", \"dzt\", \"dvzt\", \"dtht\"]\n",
    "    #_ = [a.extend_symbol_set(ss) for a in lin_dyn]\n",
    "    Bu = np.eye(5)\n",
    "    for i in range(5):\n",
    "        for  j in range(5):\n",
    "            if lin_dyn[i].order == 0: # its a constant\n",
    "                Bu[i,j] = 0\n",
    "            else:\n",
    "                Bu[i,j] = lin_dyn[i].get_derivative({ss[j+5] : 1})\n",
    "    tau = find_timedelay_pade(Ad, Bu, norder = norder, ntau = ntau)\n",
    "    data[N][6] = tau\n",
    "    print('Critical delay:', tau)\n",
    "    #print(np.linalg.eig(Bu)[0])"
   ]
  },
  {
   "cell_type": "code",
   "execution_count": 20,
   "metadata": {},
   "outputs": [
    {
     "name": "stdout",
     "output_type": "stream",
     "text": [
      "$\\mathcal N^{50}_{1}$ & 2.27s & 2.41s & 0.137s \\\\\n",
      "$\\mathcal N^{50}_{2}$ & 1.66s & 0.00s & 0.034s \\\\\n",
      "$\\mathcal N^{50}_{3}$ & 1.73s & 2.63s & 0.023s \\\\\n",
      "$\\mathcal N^{50}_{4}$ & 1.26s & 2.52s & 0.026s \\\\\n",
      "$\\mathcal N^{50}_{5}$ & 1.19s & 3.32s & 0.037s \\\\\n",
      "$\\mathcal N^{50}_{6}$ & 0.89s & 2.07s & 0.039s \\\\\n",
      "$\\mathcal N^{50}_{7}$ & 0.59s & 2.00s & 0.056s \\\\\n",
      "$\\mathcal N^{50}_{8}$ & 0.71s & 8.34s & 0.069s \\\\\n",
      "$\\mathcal N^{50}_{9}$ & 0.78s & 2.68s & 0.091s \\\\\n",
      "$\\mathcal N^{100}_{1}$ & 1.97s & 2.48s & 0.140s \\\\\n",
      "$\\mathcal N^{100}_{2}$ & 2.09s & 3.80s & 0.029s \\\\\n",
      "$\\mathcal N^{100}_{3}$ & 1.80s & 3.59s & 0.022s \\\\\n",
      "$\\mathcal N^{100}_{4}$ & 2.54s & 0.00s & 0.032s \\\\\n",
      "$\\mathcal N^{100}_{5}$ & 1.52s & 0.00s & 0.037s \\\\\n",
      "$\\mathcal N^{100}_{6}$ & 1.40s & 1.19s & 0.091s \\\\\n",
      "$\\mathcal N^{100}_{7}$ & 1.70s & 1.06s & 0.071s \\\\\n",
      "$\\mathcal N^{100}_{8}$ & 1.25s & 2.18s & 0.059s \\\\\n",
      "$\\mathcal N^{100}_{9}$ & 2.13s & 0.56s & 0.047s \\\\\n",
      "$\\mathcal N^{200}_{1}$ & 1.64s & 2.56s & 0.134s \\\\\n",
      "$\\mathcal N^{200}_{2}$ & 1.94s & 3.17s & 0.026s \\\\\n",
      "$\\mathcal N^{200}_{3}$ & 1.39s & 3.21s & 0.024s \\\\\n",
      "$\\mathcal N^{200}_{4}$ & 2.33s & 3.90s & 0.050s \\\\\n",
      "$\\mathcal N^{200}_{5}$ & 1.18s & 4.37s & 0.060s \\\\\n",
      "$\\mathcal N^{200}_{6}$ & 1.87s & 5.59s & 0.043s \\\\\n",
      "$\\mathcal N^{200}_{7}$ & 1.30s & 1.23s & 0.050s \\\\\n",
      "$\\mathcal N^{200}_{8}$ & 1.39s & 1.30s & 0.042s \\\\\n",
      "$\\mathcal N^{200}_{9}$ & 0.89s & 0.54s & 0.024s \\\\\n"
     ]
    }
   ],
   "source": [
    "# [path, bias, error in equilibrium, controller, damp, freq, timedelay]\n",
    "for N in data:\n",
    "    print(\"$\\mathcal N^{{{}}}_{{{}}}$ & {:0.2f}s & {:0.2f}s & {:0.3f}s \\\\\\\\\".format(int(N[-4:]), int(N[2:4]), data[N][4], data[N][5], data[N][6]))"
   ]
  }
 ],
 "metadata": {
  "kernelspec": {
   "display_name": "Python 3",
   "language": "python",
   "name": "python3"
  },
  "language_info": {
   "codemirror_mode": {
    "name": "ipython",
    "version": 3
   },
   "file_extension": ".py",
   "mimetype": "text/x-python",
   "name": "python",
   "nbconvert_exporter": "python",
   "pygments_lexer": "ipython3",
   "version": "3.7.1"
  }
 },
 "nbformat": 4,
 "nbformat_minor": 2
}
