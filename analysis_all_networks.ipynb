{
 "cells": [
  {
   "cell_type": "markdown",
   "metadata": {},
   "source": [
    "# Study of all the networks trained\n",
    "\n"
   ]
  },
  {
   "cell_type": "markdown",
   "metadata": {},
   "source": [
    "| Packages needed    | \n",
    "|----------|\n",
    "| scipy  | \n",
    "| numpy  | \n",
    "| matplotlib  | \n",
    "| pyaudi  |\n",
    "| pygmo  |\n",
    "| progressbar  |\n",
    "| control  |\n",
    "\n",
    "\n",
    "Can all be installed via pip  or conda package managers (tested in python 3.7)"
   ]
  },
  {
   "cell_type": "code",
   "execution_count": 3,
   "metadata": {},
   "outputs": [],
   "source": [
    "%matplotlib inline\n",
    "\n",
    "import pygmo as pg\n",
    "from pyquad import Controller, rkf45, rkf45_gduals\n",
    "import numpy as np\n",
    "from math import sin, cos, sqrt, tanh\n",
    "import progressbar\n",
    "\n",
    "import matplotlib.pyplot as plt\n",
    "from matplotlib import animation, rc\n",
    "from IPython.display import HTML\n",
    "\n",
    "g0 = 9.81 # m/s2\n",
    "m = 0.38905 # kg\n",
    "T_max = 9.1 # N\n",
    "theta_max = 35 # rad/sec\n",
    "\n"
   ]
  },
  {
   "cell_type": "markdown",
   "metadata": {},
   "source": [
    "### 1 - Find the exact equilibrium point\n",
    "\n"
   ]
  },
  {
   "cell_type": "code",
   "execution_count": 4,
   "metadata": {},
   "outputs": [],
   "source": [
    "# This pygmo problem is solved by the equilibrium point of the system\n",
    "class my_prob:\n",
    "    def __init__(self, path):\n",
    "        self.Controller = Controller(path)\n",
    "    def fitness(self, x):\n",
    "        return [np.linalg.norm(self.Controller.compute_control(x) - np.array([g0*m, 0]))]\n",
    "    def get_bounds(self):\n",
    "        return ([-1,0,-1,0,0],[1,0,1,0,0])"
   ]
  },
  {
   "cell_type": "code",
   "execution_count": 23,
   "metadata": {},
   "outputs": [],
   "source": [
    "# [path, bias, error in equilibrium, controller, damp, freq, timedelay]\n",
    "data = dict() \n",
    "data[\"N_01_0050\"] = [\"data/softplus/power_bebop_drag_h01_n0050_softplus.pkl\", [], False, False,0.,0.,0.]\n",
    "data[\"N_02_0050\"] = [\"data/softplus/power_bebop_drag_h02_n0050_softplus.pkl\", [], False,False,0.,0.,0.]\n",
    "data[\"N_03_0050\"] = [\"data/softplus/power_bebop_drag_h03_n0050_softplus.pkl\", [], False,False,0.,0.,0.]\n",
    "data[\"N_04_0050\"] = [\"data/softplus/power_bebop_drag_h04_n0050_softplus.pkl\", [], False,False,0.,0.,0.]\n",
    "data[\"N_05_0050\"] = [\"data/softplus/power_bebop_drag_h05_n0050_softplus.pkl\", [], False,False,0.,0.,0.]\n",
    "data[\"N_06_0050\"] = [\"data/softplus/power_bebop_drag_h06_n0050_softplus.pkl\", [], False,False,0.,0.,0.]\n",
    "data[\"N_07_0050\"] = [\"data/softplus/power_bebop_drag_h07_n0050_softplus.pkl\", [], False,False,0.,0.,0.]\n",
    "data[\"N_08_0050\"] = [\"data/softplus/power_bebop_drag_h08_n0050_softplus.pkl\", [], False,False,0.,0.,0.]\n",
    "data[\"N_09_0050\"] = [\"data/softplus/power_bebop_drag_h09_n0050_softplus.pkl\", [], False,False,0.,0.,0.]\n",
    "data[\"N_01_0100\"] = [\"data/softplus/power_bebop_drag_h01_n0100_softplus.pkl\", [], False, False,0.,0.,0.]\n",
    "data[\"N_02_0100\"] = [\"data/softplus/power_bebop_drag_h02_n0100_softplus.pkl\", [], False,False,0.,0.,0.]\n",
    "data[\"N_03_0100\"] = [\"data/softplus/power_bebop_drag_h03_n0100_softplus.pkl\", [], False,False,0.,0.,0.]\n",
    "data[\"N_04_0100\"] = [\"data/softplus/power_bebop_drag_h04_n0100_softplus.pkl\", [], False,False,0.,0.,0.]\n",
    "data[\"N_05_0100\"] = [\"data/softplus/power_bebop_drag_h05_n0100_softplus.pkl\", [], False,False,0.,0.,0.]\n",
    "data[\"N_06_0100\"] = [\"data/softplus/power_bebop_drag_h06_n0100_softplus.pkl\", [], False,False,0.,0.,0.]\n",
    "data[\"N_07_0100\"] = [\"data/softplus/power_bebop_drag_h07_n0100_softplus.pkl\", [], False,False,0.,0.,0.]\n",
    "data[\"N_08_0100\"] = [\"data/softplus/power_bebop_drag_h08_n0100_softplus.pkl\", [], False,False,0.,0.,0.]\n",
    "data[\"N_09_0100\"] = [\"data/softplus/power_bebop_drag_h09_n0100_softplus.pkl\", [], False,False,0.,0.,0.]\n",
    "data[\"N_01_0200\"] = [\"data/softplus/power_bebop_drag_h01_n0200_softplus.pkl\", [], False, False,0.,0.,0.]\n",
    "data[\"N_02_0200\"] = [\"data/softplus/power_bebop_drag_h02_n0200_softplus.pkl\", [], False,False,0.,0.,0.]\n",
    "data[\"N_03_0200\"] = [\"data/softplus/power_bebop_drag_h03_n0200_softplus.pkl\", [], False,False,0.,0.,0.]\n",
    "data[\"N_04_0200\"] = [\"data/softplus/power_bebop_drag_h04_n0200_softplus.pkl\", [], False,False,0.,0.,0.]\n",
    "data[\"N_05_0200\"] = [\"data/softplus/power_bebop_drag_h05_n0200_softplus.pkl\", [], False,False,0.,0.,0.]\n",
    "data[\"N_06_0200\"] = [\"data/softplus/power_bebop_drag_h06_n0200_softplus.pkl\", [], False,False,0.,0.,0.]\n",
    "data[\"N_07_0200\"] = [\"data/softplus/power_bebop_drag_h07_n0200_softplus.pkl\", [], False,False,0.,0.,0.]\n",
    "data[\"N_08_0200\"] = [\"data/softplus/power_bebop_drag_h08_n0200_softplus.pkl\", [], False,False,0.,0.,0.]\n",
    "data[\"N_09_0200\"] = [\"data/softplus/power_bebop_drag_h09_n0200_softplus.pkl\", [], False,False,0.,0.,0.]"
   ]
  },
  {
   "cell_type": "code",
   "execution_count": 24,
   "metadata": {},
   "outputs": [
    {
     "name": "stderr",
     "output_type": "stream",
     "text": [
      " 90% (27 of 30) |#####################   | Elapsed Time: 0:03:43 ETA:   0:00:53/usr/lib/python3.7/site-packages/numpy/lib/function_base.py:2048: RuntimeWarning: overflow encountered in ? (vectorized)\n",
      "  outputs = ufunc(*inputs)\n",
      "100% (30 of 30) |########################| Elapsed Time: 0:05:02 Time:  0:05:02\n"
     ]
    }
   ],
   "source": [
    "for N in progressbar.progressbar(data):\n",
    "    udp = my_prob(data[N][0])\n",
    "    prob = pg.problem(udp)\n",
    "    algo = pg.algorithm(pg.de(gen=400, xtol=0, ftol=0))\n",
    "    #uda = pg.nlopt(solver=\"neldermead\")\n",
    "    #algo = pg.algorithm(pg.nlopt(solver=\"neldermead\"))\n",
    "    algo.set_verbosity(1)\n",
    "    pop = pg.population(prob,19)\n",
    "    pop.push_back([0,0,0,0,0])\n",
    "    pop = algo.evolve(pop)\n",
    "    data[N][1] = pop.champion_x\n",
    "    err = np.linalg.norm(udp.Controller.compute_control(pop.champion_x) - np.array([3.81658050, 0]))\n",
    "    data[N][2] = err"
   ]
  },
  {
   "cell_type": "markdown",
   "metadata": {},
   "source": [
    "### 2 - Redefine the Controller so that the origin is the equilibrium point\n"
   ]
  },
  {
   "cell_type": "code",
   "execution_count": 25,
   "metadata": {},
   "outputs": [],
   "source": [
    "class UnbiasedController(Controller):\n",
    "    def __init__(self, path_to_pickle, bias):\n",
    "        super(UnbiasedController, self).__init__(path_to_pickle)\n",
    "        self.bias = np.array(bias)\n",
    "    def compute_control(self, state):\n",
    "        return super(UnbiasedController, self).compute_control(state + self.bias)"
   ]
  },
  {
   "cell_type": "code",
   "execution_count": 26,
   "metadata": {},
   "outputs": [
    {
     "name": "stderr",
     "output_type": "stream",
     "text": [
      "100% (30 of 30) |########################| Elapsed Time: 0:00:00 Time:  0:00:00\n"
     ]
    }
   ],
   "source": [
    "for N in progressbar.progressbar(data):\n",
    "    data[N][3] = UnbiasedController(data[N][0], data[N][1])\n"
   ]
  },
  {
   "cell_type": "code",
   "execution_count": 27,
   "metadata": {},
   "outputs": [
    {
     "name": "stderr",
     "output_type": "stream",
     "text": [
      " 73% (22 of 30) |#################       | Elapsed Time: 0:00:00 ETA:  00:00:00/usr/lib/python3.7/site-packages/numpy/lib/function_base.py:2048: RuntimeWarning: overflow encountered in ? (vectorized)\n",
      "  outputs = ufunc(*inputs)\n",
      "100% (30 of 30) |########################| Elapsed Time: 0:00:00 Time:  0:00:00\n"
     ]
    },
    {
     "name": "stdout",
     "output_type": "stream",
     "text": [
      "N_01_0050 -> 9.81 2.8427780962569926e-16\n",
      "N_02_0050 -> 9.81 5.167307554065914e-16\n",
      "N_03_0050 -> 9.809999999999999 5.160802341031001e-17\n",
      "N_04_0050 -> 9.809999999999999 5.160802341031001e-17\n",
      "N_05_0050 -> 9.81 5.160802341031001e-17\n",
      "N_06_0050 -> 9.81 5.167307554065914e-16\n",
      "N_07_0050 -> 9.809999999999997 -4.132978681514743e-16\n",
      "N_08_0050 -> 9.81 5.160802341031001e-17\n",
      "N_09_0050 -> 9.81 5.160802341031001e-17\n",
      "N_10_0050 -> 9.809999999999999 -8.786374405822528e-16\n",
      "N_01_0100 -> 9.81 5.160802341031001e-17\n",
      "N_02_0100 -> 9.81 2.8427780962569926e-16\n",
      "N_03_0100 -> 9.810000000000002 -6.459676543668635e-16\n",
      "N_04_0100 -> 9.81 2.8427780962569926e-16\n",
      "N_05_0100 -> 9.81 5.160802341031001e-17\n",
      "N_06_0100 -> 9.81 5.160802341031001e-17\n",
      "N_07_0100 -> 9.81 5.160802341031001e-17\n",
      "N_08_0100 -> 9.81 2.8427780962569926e-16\n",
      "N_09_0100 -> 9.81 5.167307554065914e-16\n",
      "N_10_0100 -> 9.810000000000002 -6.459676543668635e-16\n",
      "N_01_0200 -> 9.81 5.160802341031001e-17\n",
      "N_02_0200 -> 9.809999999999999 -1.5762131183594263e-15\n",
      "N_03_0200 -> 9.809999999999999 5.160802341031001e-17\n",
      "N_04_0200 -> 9.81 5.160802341031001e-17\n",
      "N_05_0200 -> 9.809999999999999 5.160802341031001e-17\n",
      "N_06_0200 -> 9.81 2.8427780962569926e-16\n",
      "N_07_0200 -> 9.81 -4.132978681514743e-16\n",
      "N_08_0200 -> 9.81 2.8427780962569926e-16\n",
      "N_09_0200 -> 9.809999999999999 2.8427780962569926e-16\n",
      "N_10_0200 -> nan nan\n"
     ]
    }
   ],
   "source": [
    "for N in progressbar.progressbar(data):\n",
    "    a = data[N][3].compute_control([0,0,0,0,0])\n",
    "    print(N, \"->\", a[0] / m, a[1])"
   ]
  },
  {
   "cell_type": "markdown",
   "metadata": {},
   "source": [
    "### 3 - Simulate the dynamics"
   ]
  },
  {
   "cell_type": "code",
   "execution_count": 28,
   "metadata": {},
   "outputs": [],
   "source": [
    "# This is a simple Runga Kutta fourth order numerical integrator with fixed step.\n",
    "# It is programmed to work both with floats and gduals. It infers the type from the initial conditions\n",
    "def rk4(f, t0, y0, tf, N):\n",
    "    h = (tf - t0) / N\n",
    "    t = np.arange(t0,tf,h)\n",
    "    y = np.array([[y0[0]] * np.size(y0)] * N)\n",
    "    y[0] = y0\n",
    "    for n in progressbar.progressbar(range(N - 1)):\n",
    "        xi1 = y[n]\n",
    "        f1 = f(t[n], xi1)\n",
    "        xi2 = y[n] + (h/2.)*f1\n",
    "        f2 = f(t[n+1], xi2)\n",
    "        xi3 = y[n] + (h/2.)*f2\n",
    "        f3 = f(t[n+1], xi3)\n",
    "        xi4 = y[n] + h*f3\n",
    "        f4 = f(t[n+1], xi4)\n",
    "        y[n+1] = y[n] + (h/6.)*(f1 + 2*f2 + 2*f3 + f4)\n",
    "    return y\n",
    "\n",
    "\n",
    "    "
   ]
  },
  {
   "cell_type": "code",
   "execution_count": 29,
   "metadata": {},
   "outputs": [],
   "source": [
    "def rhs(t, x, uc):\n",
    "    u = uc.compute_control(x)\n",
    "    return np.array([\n",
    "        x[1],\n",
    "         -0.5*x[1] + (u[0])/m * sin(x[4]),\n",
    "        x[3],\n",
    "        -0.5 *x[3] - g0 + (u[0])/m * cos(x[4]),\n",
    "         u[1],\n",
    "    ])"
   ]
  },
  {
   "cell_type": "code",
   "execution_count": 30,
   "metadata": {},
   "outputs": [
    {
     "name": "stderr",
     "output_type": "stream",
     "text": [
      "100% (99 of 99) |########################| Elapsed Time: 0:00:00 Time:  0:00:00\n",
      "100% (99 of 99) |########################| Elapsed Time: 0:00:00 Time:  0:00:00\n"
     ]
    }
   ],
   "source": [
    "# Initial condition for the plots (x,vx,z,vz,theta)\n",
    "IC = np.array([ 4. ,2., 7.,1.,1.4])\n",
    "# Which one?\n",
    "key1 = \"N_01_0050\"\n",
    "key2 = \"N_05_0200\"\n",
    "\n",
    "tf = 5\n",
    "N = 100\n",
    "\n",
    "res1 = rk4(lambda t,x: rhs(t,x,data[key1][3]), 0, IC, tf, N)\n",
    "res2 = rk4(lambda t,x: rhs(t,x,data[key2][3]), 0, IC, tf, N)\n",
    "\n",
    "\n",
    "x1 = res1[:,0]\n",
    "vx1 = res1[:,1]\n",
    "z1 = res1[:,2]\n",
    "vz1 = res1[:,3]\n",
    "theta1 = res1[:,4]\n",
    "x2 = res2[:,0]\n",
    "vx2 = res2[:,1]\n",
    "z2 = res2[:,2]\n",
    "vz2 = res2[:,3]\n",
    "theta2 = res2[:,4]\n",
    "t = np.arange(0, tf, tf/ N)"
   ]
  },
  {
   "cell_type": "markdown",
   "metadata": {},
   "source": [
    "#### Trajectory plot (comparing two networks)"
   ]
  },
  {
   "cell_type": "code",
   "execution_count": 31,
   "metadata": {},
   "outputs": [
    {
     "data": {
      "image/png": "[encoded data removed]",
      "text/plain": [
       "<Figure size 648x504 with 6 Axes>"
      ]
     },
     "metadata": {
      "needs_background": "light"
     },
     "output_type": "display_data"
    }
   ],
   "source": [
    "# And we plot (statically) the resulting trajectory\n",
    "plt.figure(figsize=(9,7))\n",
    "plt.subplot(231)\n",
    "plt.plot(t, x1)\n",
    "plt.plot(t, x2)\n",
    "plt.xlabel(\"t\")\n",
    "plt.ylabel(\"x\")\n",
    "plt.subplot(232)\n",
    "plt.plot(t, vx1)\n",
    "plt.plot(t, vx2)\n",
    "plt.xlabel(\"t\")\n",
    "plt.ylabel(\"vx\")\n",
    "plt.subplot(233)\n",
    "plt.plot(t, z1)\n",
    "plt.plot(t, z2)\n",
    "plt.xlabel(\"t\")\n",
    "plt.ylabel(\"z\")\n",
    "plt.subplot(234)\n",
    "plt.plot(t, vz1)\n",
    "plt.plot(t, vz2)\n",
    "plt.xlabel(\"t\")\n",
    "plt.ylabel(\"vz\")\n",
    "plt.subplot(235)\n",
    "plt.xlabel(\"t\")\n",
    "plt.ylabel(\"theta\")\n",
    "plt.plot(t, theta1)\n",
    "plt.plot(t, theta2)\n",
    "plt.subplot(236)\n",
    "plt.xlabel(\"t\")\n",
    "plt.ylabel(\"theta\")\n",
    "plt.plot(x1, z1)\n",
    "plt.plot(x2, z2)\n",
    "plt.tight_layout()"
   ]
  },
  {
   "cell_type": "code",
   "execution_count": 32,
   "metadata": {},
   "outputs": [
    {
     "data": {
      "text/plain": [
       "(-8, 8)"
      ]
     },
     "execution_count": 32,
     "metadata": {},
     "output_type": "execute_result"
    },
    {
     "data": {
      "image/png": "[encoded data removed]",
      "text/plain": [
       "<Figure size 360x360 with 1 Axes>"
      ]
     },
     "metadata": {
      "needs_background": "light"
     },
     "output_type": "display_data"
    }
   ],
   "source": [
    "def plot_quad_traj(x,z,theta, L, ax):\n",
    "    # Quad Terminal points\n",
    "    x1 = x + L * np.cos(theta)\n",
    "    z1 = z - L * np.sin(theta)\n",
    "    x2 = x - L * np.cos(theta) \n",
    "    z2 = z + L * np.sin(theta) \n",
    "\n",
    "    ax.plot(x,z)\n",
    "    for i in range(len(x1))[::5]:\n",
    "        ax.plot([x1[i],x2[i]], [z1[i],z2[i]],\"k\", alpha=0.5)\n",
    "        ax.scatter(x[i],z[i], s=5,color='k', alpha=0.5)\n",
    "        \n",
    "L=0.4\n",
    "fig = plt.figure(figsize=(5,5))\n",
    "plot_quad_traj(x1,z1,theta1, L,fig.gca())\n",
    "plt.xlim((-8, 8))\n",
    "plt.ylim((-8, 8))\n"
   ]
  },
  {
   "cell_type": "markdown",
   "metadata": {},
   "source": [
    "#### Plots for different initial conditions IC"
   ]
  },
  {
   "cell_type": "code",
   "execution_count": 33,
   "metadata": {},
   "outputs": [
    {
     "name": "stderr",
     "output_type": "stream",
     "text": [
      "100% (99 of 99) |########################| Elapsed Time: 0:00:00 Time:  0:00:00\n",
      "100% (99 of 99) |########################| Elapsed Time: 0:00:00 Time:  0:00:00\n",
      "100% (99 of 99) |########################| Elapsed Time: 0:00:00 Time:  0:00:00\n",
      "100% (99 of 99) |########################| Elapsed Time: 0:00:00 Time:  0:00:00\n"
     ]
    },
    {
     "data": {
      "image/png": "[encoded data removed]",
      "text/plain": [
       "<Figure size 1008x216 with 4 Axes>"
      ]
     },
     "metadata": {
      "needs_background": "light"
     },
     "output_type": "display_data"
    }
   ],
   "source": [
    "IC = []\n",
    "IC.append(np.array([ 4. ,0, 4.,0,0]))\n",
    "IC.append(np.array([ -4. ,0, 0,0,0]))\n",
    "IC.append(np.array([ 0. ,4., -4.,-2.,1.4]))\n",
    "IC.append(np.array([ -4. ,1., 4.,3.,0.4]))\n",
    "#IC.append(np.array([ 4. ,1., 4.,1.,-0.4]))\n",
    "#IC.append(np.array([ -4. ,1., 4.,1.,0.4]))\n",
    "L=0.4\n",
    "tf = 3.\n",
    "N = 100\n",
    "\n",
    "fig = plt.figure(figsize=(14,3))\n",
    "for i,x0 in enumerate(IC):\n",
    "    ax = plt.subplot(1,4,i+1)\n",
    "    res = rk4(lambda t,x: rhs(t,x,data[key2][3]), 0, x0, tf, N)\n",
    "    plot_quad_traj(res[:,0],res[:,2],res[:,4], L,ax)\n",
    "    plt.xlim((-5, 5))\n",
    "    plt.ylim((-5, 5))\n",
    "plt.tight_layout()\n",
    "plt.savefig(\"trajs.png\")\n"
   ]
  },
  {
   "cell_type": "markdown",
   "metadata": {},
   "source": [
    "### 4 - Analyze the System Stability (linear)\n",
    "\n",
    "The system linear stabilty around the equilibrium point (origin) is studied. \n",
    "\n",
    "Write the overall system as:\n",
    "\n",
    "$$\n",
    "\\dot {\\mathbf x} = \\mathbf f(\\mathbf x)\n",
    "$$\n",
    "\n",
    "introduce the variable $\\mathbf x = \\mathbf x_e + \\delta \\mathbf x$. Then:\n",
    "\n",
    "$$\n",
    "\\dot {\\delta \\mathbf x} = \\nabla \\mathbf f \\cdot \\delta \\mathbf x\n",
    "$$\n",
    "\n",
    "The resulting linear system has an analytical solution readily found by:\n",
    "\n",
    "$$\n",
    "\\delta \\mathbf x = e^{\\mathbf A t} \\delta \\mathbf x_0\n",
    "$$\n",
    "\n",
    "Using the eigen decomposition of the matrix $\\mathbf A$ we may write $\\mathbf A\\mathbf V = \\mathbf V\\mathbf \\Lambda$. Where we have introduced the right eigenvector matrix $\\mathbf V = [\\mathbf v_1, \\mathbf v_2, ...]$ and the eigenvalue matrix $\\mathbf \\Lambda$. \n",
    "\n",
    "Eventually the system dynamics is thus expressed as:\n",
    "\n",
    "$$\n",
    "\\delta \\mathbf x = \\mathbf V^{-1} e^{\\mathbf \\Lambda t} \\mathbf V \n",
    "$$\n",
    "\n",
    "and will thus be some linear combination of terms in the form $e^{-\\lambda_i t}$. The real part of the eigenvalues is then determining the asymptotic behavior of the system (needs to be negative to give asymptotic stability and its magnitude regulates the system damping time), while the imaginary part $\\omega_i$ determines the oscillating behaviour introducing a frequency $f = \\frac {\\omega}{2\\pi}$."
   ]
  },
  {
   "cell_type": "code",
   "execution_count": 34,
   "metadata": {},
   "outputs": [],
   "source": [
    "from pyaudi import gdual_double as gdual\n",
    "from pyaudi import sin, cos, sqrt, tanh\n",
    "\n",
    "# Equilibrium point\n",
    "x_e = [gdual(0., name, 1) for name in [\"x\",\"vx\",\"z\",\"vz\",\"th\"]]"
   ]
  },
  {
   "cell_type": "code",
   "execution_count": 35,
   "metadata": {},
   "outputs": [
    {
     "name": "stderr",
     "output_type": "stream",
     "text": [
      "\r",
      "                                                                               \r",
      "\r",
      "N/A% (0 of 30) |                         | Elapsed Time: 0:00:00 ETA:  --:--:--"
     ]
    },
    {
     "name": "stdout",
     "output_type": "stream",
     "text": [
      "Mode  1 : STABLE! - real\n",
      "\t decay time (10%):  0.21671471091865016 s\n",
      "Mode  2 : STABLE! - complex\n",
      "\t decay time (10%):  1.9440495629128773 s\n",
      "\t period:  2.409671480181639 s\n",
      "Mode  3 : STABLE! - complex\n",
      "\t decay time (10%):  1.9440495629128773 s\n",
      "\t period:  -2.409671480181639 s\n",
      "Mode  4 : STABLE! - real\n",
      "\t decay time (10%):  1.0679848222334882 s\n",
      "Mode  5 : STABLE! - real\n",
      "\t decay time (10%):  2.2727211130224356 s\n",
      "Mode  1 : STABLE! - real\n",
      "\t decay time (10%):  0.05249010279533144 s\n",
      "Mode  2 : STABLE! - real\n",
      "\t decay time (10%):  0.08521150207769623 s\n",
      "Mode  3 : STABLE! - real\n",
      "\t decay time (10%):  0.693269068397924 s\n",
      "Mode  4 : STABLE! - real\n",
      "\t decay time (10%):  1.6618332926667556 s\n",
      "Mode  5 : STABLE! - real\n",
      "\t decay time (10%):  1.2396555157707465 s\n"
     ]
    },
    {
     "name": "stderr",
     "output_type": "stream",
     "text": [
      "\r",
      "                                                                               \r",
      "\r",
      "  6% (2 of 30) |#                        | Elapsed Time: 0:00:00 ETA:   0:00:01"
     ]
    },
    {
     "name": "stdout",
     "output_type": "stream",
     "text": [
      "Mode  1 : STABLE! - real\n",
      "\t decay time (10%):  0.05109659761947068 s\n",
      "Mode  2 : STABLE! - real\n",
      "\t decay time (10%):  0.034802938265553814 s\n",
      "Mode  3 : STABLE! - complex\n",
      "\t decay time (10%):  1.3794325541361514 s\n",
      "\t period:  2.634563265334623 s\n",
      "Mode  4 : STABLE! - complex\n",
      "\t decay time (10%):  1.3794325541361514 s\n",
      "\t period:  -2.634563265334623 s\n",
      "Mode  5 : STABLE! - real\n",
      "\t decay time (10%):  1.7294195275447728 s\n"
     ]
    },
    {
     "name": "stderr",
     "output_type": "stream",
     "text": [
      "\r",
      "                                                                               \r",
      "\r",
      " 10% (3 of 30) |##                       | Elapsed Time: 0:00:00 ETA:   0:00:02"
     ]
    },
    {
     "name": "stdout",
     "output_type": "stream",
     "text": [
      "Mode  1 : STABLE! - real\n",
      "\t decay time (10%):  0.042627482844971025 s\n",
      "Mode  2 : STABLE! - real\n",
      "\t decay time (10%):  0.05636826770432241 s\n",
      "Mode  3 : STABLE! - complex\n",
      "\t decay time (10%):  1.185964906508739 s\n",
      "\t period:  2.5220787749093496 s\n",
      "Mode  4 : STABLE! - complex\n",
      "\t decay time (10%):  1.185964906508739 s\n",
      "\t period:  -2.5220787749093496 s\n",
      "Mode  5 : STABLE! - real\n",
      "\t decay time (10%):  1.2643913597741274 s\n"
     ]
    },
    {
     "name": "stderr",
     "output_type": "stream",
     "text": [
      "\r",
      "                                                                               \r",
      "\r",
      " 13% (4 of 30) |###                      | Elapsed Time: 0:00:00 ETA:   0:00:02"
     ]
    },
    {
     "name": "stdout",
     "output_type": "stream",
     "text": [
      "Mode  1 : STABLE! - real\n",
      "\t decay time (10%):  0.06288729628525244 s\n",
      "Mode  2 : STABLE! - complex\n",
      "\t decay time (10%):  1.1943272976219281 s\n",
      "\t period:  3.1169950952341354 s\n",
      "Mode  3 : STABLE! - complex\n",
      "\t decay time (10%):  1.1943272976219281 s\n",
      "\t period:  -3.1169950952341354 s\n",
      "Mode  4 : STABLE! - complex\n",
      "\t decay time (10%):  0.5220766237937622 s\n",
      "\t period:  3.3213138580667483 s\n",
      "Mode  5 : STABLE! - complex\n",
      "\t decay time (10%):  0.5220766237937622 s\n",
      "\t period:  -3.3213138580667483 s\n"
     ]
    },
    {
     "name": "stderr",
     "output_type": "stream",
     "text": [
      "\r",
      "                                                                               \r",
      "\r",
      " 16% (5 of 30) |####                     | Elapsed Time: 0:00:00 ETA:   0:00:02"
     ]
    },
    {
     "name": "stdout",
     "output_type": "stream",
     "text": [
      "Mode  1 : STABLE! - real\n",
      "\t decay time (10%):  0.06983009584478485 s\n",
      "Mode  2 : STABLE! - complex\n",
      "\t decay time (10%):  0.8859939500987615 s\n",
      "\t period:  2.0677511095651457 s\n",
      "Mode  3 : STABLE! - complex\n",
      "\t decay time (10%):  0.8859939500987615 s\n",
      "\t period:  -2.0677511095651457 s\n",
      "Mode  4 : STABLE! - real\n",
      "\t decay time (10%):  0.3943667194943804 s\n",
      "Mode  5 : STABLE! - real\n",
      "\t decay time (10%):  0.19402442214245408 s\n"
     ]
    },
    {
     "name": "stderr",
     "output_type": "stream",
     "text": [
      "\r",
      "                                                                               \r",
      "\r",
      " 20% (6 of 30) |#####                    | Elapsed Time: 0:00:00 ETA:   0:00:02"
     ]
    },
    {
     "name": "stdout",
     "output_type": "stream",
     "text": [
      "Mode  1 : STABLE! - real\n",
      "\t decay time (10%):  0.1401376081391472 s\n",
      "Mode  2 : STABLE! - complex\n",
      "\t decay time (10%):  0.5897710551713519 s\n",
      "\t period:  2.002625983374864 s\n",
      "Mode  3 : STABLE! - complex\n",
      "\t decay time (10%):  0.5897710551713519 s\n",
      "\t period:  -2.002625983374864 s\n",
      "Mode  4 : STABLE! - real\n",
      "\t decay time (10%):  0.28265615155684215 s\n",
      "Mode  5 : STABLE! - real\n",
      "\t decay time (10%):  0.2638621611757742 s\n"
     ]
    },
    {
     "name": "stderr",
     "output_type": "stream",
     "text": [
      "\r",
      "                                                                               \r",
      "\r",
      " 23% (7 of 30) |#####                    | Elapsed Time: 0:00:00 ETA:   0:00:02"
     ]
    },
    {
     "name": "stdout",
     "output_type": "stream",
     "text": [
      "Mode  1 : STABLE! - real\n",
      "\t decay time (10%):  0.17602216481546315 s\n",
      "Mode  2 : STABLE! - complex\n",
      "\t decay time (10%):  0.7058935881296785 s\n",
      "\t period:  1.2285927024008312 s\n",
      "Mode  3 : STABLE! - complex\n",
      "\t decay time (10%):  0.7058935881296785 s\n",
      "\t period:  -1.2285927024008312 s\n",
      "Mode  4 : STABLE! - complex\n",
      "\t decay time (10%):  0.45774847719332623 s\n",
      "\t period:  8.341137296288013 s\n",
      "Mode  5 : STABLE! - complex\n",
      "\t decay time (10%):  0.45774847719332623 s\n",
      "\t period:  -8.341137296288013 s\n"
     ]
    },
    {
     "name": "stderr",
     "output_type": "stream",
     "text": [
      "\r",
      "                                                                               \r",
      "\r",
      " 26% (8 of 30) |######                   | Elapsed Time: 0:00:01 ETA:   0:00:03"
     ]
    },
    {
     "name": "stdout",
     "output_type": "stream",
     "text": [
      "Mode  1 : STABLE! - real\n",
      "\t decay time (10%):  0.25938790970590186 s\n",
      "Mode  2 : STABLE! - complex\n",
      "\t decay time (10%):  0.5550463777767212 s\n",
      "\t period:  1.4754283176851353 s\n",
      "Mode  3 : STABLE! - complex\n",
      "\t decay time (10%):  0.5550463777767212 s\n",
      "\t period:  -1.4754283176851353 s\n",
      "Mode  4 : STABLE! - complex\n",
      "\t decay time (10%):  0.7816976759324871 s\n",
      "\t period:  2.6786185286253335 s\n",
      "Mode  5 : STABLE! - complex\n",
      "\t decay time (10%):  0.7816976759324871 s\n",
      "\t period:  -2.6786185286253335 s\n"
     ]
    },
    {
     "name": "stderr",
     "output_type": "stream",
     "text": [
      "\r",
      "                                                                               \r",
      "\r",
      " 30% (9 of 30) |#######                  | Elapsed Time: 0:00:01 ETA:   0:00:03"
     ]
    },
    {
     "name": "stdout",
     "output_type": "stream",
     "text": [
      "Mode  1 : STABLE! - real\n",
      "\t decay time (10%):  0.1136843602635651 s\n",
      "Mode  2 : STABLE! - real\n",
      "\t decay time (10%):  0.20255484292159778 s\n",
      "Mode  3 : STABLE! - complex\n",
      "\t decay time (10%):  0.8035635032540447 s\n",
      "\t period:  2.454400419203804 s\n",
      "Mode  4 : STABLE! - complex\n",
      "\t decay time (10%):  0.8035635032540447 s\n",
      "\t period:  -2.454400419203804 s\n",
      "Mode  5 : STABLE! - real\n",
      "\t decay time (10%):  0.4375740576988048 s\n"
     ]
    },
    {
     "name": "stderr",
     "output_type": "stream",
     "text": [
      "\r",
      "                                                                               \r",
      "\r",
      " 33% (10 of 30) |########                | Elapsed Time: 0:00:01 ETA:   0:00:03"
     ]
    },
    {
     "name": "stdout",
     "output_type": "stream",
     "text": [
      "Mode  1 : STABLE! - real\n",
      "\t decay time (10%):  0.22771645063696458 s\n",
      "Mode  2 : STABLE! - complex\n",
      "\t decay time (10%):  1.7296950324462141 s\n",
      "\t period:  2.481006068262207 s\n",
      "Mode  3 : STABLE! - complex\n",
      "\t decay time (10%):  1.7296950324462141 s\n",
      "\t period:  -2.481006068262207 s\n",
      "Mode  4 : STABLE! - real\n",
      "\t decay time (10%):  0.9270074589985953 s\n",
      "Mode  5 : STABLE! - real\n",
      "\t decay time (10%):  1.9681058215461704 s\n"
     ]
    },
    {
     "name": "stderr",
     "output_type": "stream",
     "text": [
      "\r",
      "                                                                               \r",
      "\r",
      " 36% (11 of 30) |########                | Elapsed Time: 0:00:01 ETA:   0:00:03"
     ]
    },
    {
     "name": "stdout",
     "output_type": "stream",
     "text": [
      "Mode  1 : STABLE! - real\n",
      "\t decay time (10%):  0.04393722001064009 s\n",
      "Mode  2 : STABLE! - real\n",
      "\t decay time (10%):  0.048777831642712106 s\n",
      "Mode  3 : STABLE! - complex\n",
      "\t decay time (10%):  2.0865890338255366 s\n",
      "\t period:  3.80023115277266 s\n",
      "Mode  4 : STABLE! - complex\n",
      "\t decay time (10%):  2.0865890338255366 s\n",
      "\t period:  -3.80023115277266 s\n",
      "Mode  5 : STABLE! - real\n",
      "\t decay time (10%):  1.6904427711168155 s\n"
     ]
    },
    {
     "name": "stderr",
     "output_type": "stream",
     "text": [
      "\r",
      "                                                                               \r",
      "\r",
      " 40% (12 of 30) |#########               | Elapsed Time: 0:00:01 ETA:   0:00:02"
     ]
    },
    {
     "name": "stdout",
     "output_type": "stream",
     "text": [
      "Mode  1 : STABLE! - real\n",
      "\t decay time (10%):  0.04474292066675354 s\n",
      "Mode  2 : STABLE! - real\n",
      "\t decay time (10%):  0.03360179684536022 s\n",
      "Mode  3 : STABLE! - complex\n",
      "\t decay time (10%):  0.8527648923632069 s\n",
      "\t period:  3.592605057745554 s\n",
      "Mode  4 : STABLE! - complex\n",
      "\t decay time (10%):  0.8527648923632069 s\n",
      "\t period:  -3.592605057745554 s\n",
      "Mode  5 : STABLE! - real\n",
      "\t decay time (10%):  1.8026112464952613 s\n"
     ]
    },
    {
     "name": "stderr",
     "output_type": "stream",
     "text": [
      "\r",
      "                                                                               \r",
      "\r",
      " 43% (13 of 30) |##########              | Elapsed Time: 0:00:02 ETA:   0:00:03"
     ]
    },
    {
     "name": "stdout",
     "output_type": "stream",
     "text": [
      "Mode  1 : STABLE! - real\n",
      "\t decay time (10%):  0.05150319028351572 s\n",
      "Mode  2 : STABLE! - real\n",
      "\t decay time (10%):  0.16869667536793428 s\n",
      "Mode  3 : STABLE! - real\n",
      "\t decay time (10%):  2.542986389575644 s\n",
      "Mode  4 : STABLE! - real\n",
      "\t decay time (10%):  1.168542005968557 s\n",
      "Mode  5 : STABLE! - real\n",
      "\t decay time (10%):  1.0243891470121118 s\n"
     ]
    },
    {
     "name": "stderr",
     "output_type": "stream",
     "text": [
      "\r",
      "                                                                               \r",
      "\r",
      " 46% (14 of 30) |###########             | Elapsed Time: 0:00:02 ETA:   0:00:03"
     ]
    },
    {
     "name": "stdout",
     "output_type": "stream",
     "text": [
      "Mode  1 : STABLE! - real\n",
      "\t decay time (10%):  0.06215263925145475 s\n",
      "Mode  2 : STABLE! - real\n",
      "\t decay time (10%):  0.19271545415774405 s\n",
      "Mode  3 : STABLE! - real\n",
      "\t decay time (10%):  0.6224959180237162 s\n",
      "Mode  4 : STABLE! - real\n",
      "\t decay time (10%):  1.519216129658811 s\n",
      "Mode  5 : STABLE! - real\n",
      "\t decay time (10%):  1.1888245276620157 s\n"
     ]
    },
    {
     "name": "stderr",
     "output_type": "stream",
     "text": [
      "\r",
      "                                                                               \r",
      "\r",
      " 50% (15 of 30) |############            | Elapsed Time: 0:00:03 ETA:   0:00:04"
     ]
    },
    {
     "name": "stdout",
     "output_type": "stream",
     "text": [
      "Mode  1 : STABLE! - real\n",
      "\t decay time (10%):  0.19500837629665058 s\n",
      "Mode  2 : STABLE! - complex\n",
      "\t decay time (10%):  0.5037841765825825 s\n",
      "\t period:  1.1936018981643357 s\n",
      "Mode  3 : STABLE! - complex\n",
      "\t decay time (10%):  0.5037841765825825 s\n",
      "\t period:  -1.1936018981643357 s\n",
      "Mode  4 : STABLE! - real\n",
      "\t decay time (10%):  1.3988429755131648 s\n",
      "Mode  5 : STABLE! - real\n",
      "\t decay time (10%):  0.5284989976451356 s\n"
     ]
    },
    {
     "name": "stderr",
     "output_type": "stream",
     "text": [
      "\r",
      "                                                                               \r",
      "\r",
      " 53% (16 of 30) |############            | Elapsed Time: 0:00:03 ETA:   0:00:05"
     ]
    },
    {
     "name": "stdout",
     "output_type": "stream",
     "text": [
      "Mode  1 : STABLE! - real\n",
      "\t decay time (10%):  1.6963813102411525 s\n",
      "Mode  2 : STABLE! - complex\n",
      "\t decay time (10%):  0.39126421453629423 s\n",
      "\t period:  1.0600744860781626 s\n",
      "Mode  3 : STABLE! - complex\n",
      "\t decay time (10%):  0.39126421453629423 s\n",
      "\t period:  -1.0600744860781626 s\n",
      "Mode  4 : STABLE! - real\n",
      "\t decay time (10%):  0.2050410451006155 s\n",
      "Mode  5 : STABLE! - real\n",
      "\t decay time (10%):  0.320393262153536 s\n"
     ]
    },
    {
     "name": "stderr",
     "output_type": "stream",
     "text": [
      "\r",
      "                                                                               \r",
      "\r",
      " 56% (17 of 30) |#############           | Elapsed Time: 0:00:04 ETA:   0:00:08"
     ]
    },
    {
     "name": "stdout",
     "output_type": "stream",
     "text": [
      "Mode  1 : STABLE! - complex\n",
      "\t decay time (10%):  0.23495164586027484 s\n",
      "\t period:  0.8766519737090727 s\n",
      "Mode  2 : STABLE! - complex\n",
      "\t decay time (10%):  0.23495164586027484 s\n",
      "\t period:  -0.8766519737090727 s\n",
      "Mode  3 : STABLE! - complex\n",
      "\t decay time (10%):  1.249800957683931 s\n",
      "\t period:  2.183780633020345 s\n",
      "Mode  4 : STABLE! - complex\n",
      "\t decay time (10%):  1.249800957683931 s\n",
      "\t period:  -2.183780633020345 s\n",
      "Mode  5 : STABLE! - real\n",
      "\t decay time (10%):  0.7385468111928016 s\n"
     ]
    },
    {
     "name": "stderr",
     "output_type": "stream",
     "text": [
      "\r",
      "                                                                               \r",
      "\r",
      " 60% (18 of 30) |##############          | Elapsed Time: 0:00:05 ETA:   0:00:09"
     ]
    },
    {
     "name": "stdout",
     "output_type": "stream",
     "text": [
      "Mode  1 : STABLE! - complex\n",
      "\t decay time (10%):  0.22301019371446001 s\n",
      "\t period:  0.5184148803646708 s\n",
      "Mode  2 : STABLE! - complex\n",
      "\t decay time (10%):  0.22301019371446001 s\n",
      "\t period:  -0.5184148803646708 s\n",
      "Mode  3 : STABLE! - real\n",
      "\t decay time (10%):  2.131763155940868 s\n",
      "Mode  4 : STABLE! - complex\n",
      "\t decay time (10%):  0.41102147466471456 s\n",
      "\t period:  0.5625833911336637 s\n",
      "Mode  5 : STABLE! - complex\n",
      "\t decay time (10%):  0.41102147466471456 s\n",
      "\t period:  -0.5625833911336637 s\n"
     ]
    },
    {
     "name": "stderr",
     "output_type": "stream",
     "text": [
      "\r",
      "                                                                               \r",
      "\r",
      " 63% (19 of 30) |###############         | Elapsed Time: 0:00:06 ETA:   0:00:08"
     ]
    },
    {
     "name": "stdout",
     "output_type": "stream",
     "text": [
      "Mode  1 : STABLE! - complex\n",
      "\t decay time (10%):  0.35699746588212694 s\n",
      "\t period:  0.7229823824302158 s\n",
      "Mode  2 : STABLE! - complex\n",
      "\t decay time (10%):  0.35699746588212694 s\n",
      "\t period:  -0.7229823824302158 s\n",
      "Mode  3 : STABLE! - real\n",
      "\t decay time (10%):  2.4595202217531553 s\n",
      "Mode  4 : STABLE! - real\n",
      "\t decay time (10%):  0.14245647679585813 s\n",
      "Mode  5 : STABLE! - real\n",
      "\t decay time (10%):  0.3100681785633796 s\n"
     ]
    },
    {
     "name": "stderr",
     "output_type": "stream",
     "text": [
      "\r",
      "                                                                               \r",
      "\r",
      " 66% (20 of 30) |################        | Elapsed Time: 0:00:07 ETA:   0:00:08"
     ]
    },
    {
     "name": "stdout",
     "output_type": "stream",
     "text": [
      "Mode  1 : STABLE! - real\n",
      "\t decay time (10%):  0.22639560234903025 s\n",
      "Mode  2 : STABLE! - complex\n",
      "\t decay time (10%):  1.469516955744009 s\n",
      "\t period:  2.560304207353355 s\n",
      "Mode  3 : STABLE! - complex\n",
      "\t decay time (10%):  1.469516955744009 s\n",
      "\t period:  -2.560304207353355 s\n",
      "Mode  4 : STABLE! - real\n",
      "\t decay time (10%):  0.8290671375140841 s\n",
      "Mode  5 : STABLE! - real\n",
      "\t decay time (10%):  1.6439173663118223 s\n",
      "Mode  1 : STABLE! - real\n",
      "\t decay time (10%):  0.03957586923997142 s\n",
      "Mode  2 : STABLE! - real\n",
      "\t decay time (10%):  0.046033137868449626 s\n",
      "Mode  3 : STABLE! - complex\n",
      "\t decay time (10%):  1.6087773165116699 s\n",
      "\t period:  3.1740133116418776 s\n",
      "Mode  4 : STABLE! - complex\n",
      "\t decay time (10%):  1.6087773165116699 s\n",
      "\t period:  -3.1740133116418776 s\n",
      "Mode  5 : STABLE! - real\n",
      "\t decay time (10%):  1.9350032351266617 s\n"
     ]
    },
    {
     "name": "stderr",
     "output_type": "stream",
     "text": [
      "\r",
      "                                                                               \r",
      "\r",
      " 73% (22 of 30) |#################       | Elapsed Time: 0:00:07 ETA:   0:00:04"
     ]
    },
    {
     "name": "stdout",
     "output_type": "stream",
     "text": [
      "Mode  1 : STABLE! - real\n",
      "\t decay time (10%):  0.03811934797470698 s\n",
      "Mode  2 : STABLE! - real\n",
      "\t decay time (10%):  0.03772697188813687 s\n",
      "Mode  3 : STABLE! - complex\n",
      "\t decay time (10%):  1.0880388181349714 s\n",
      "\t period:  3.209230549205439 s\n",
      "Mode  4 : STABLE! - complex\n",
      "\t decay time (10%):  1.0880388181349714 s\n",
      "\t period:  -3.209230549205439 s\n",
      "Mode  5 : STABLE! - real\n",
      "\t decay time (10%):  1.3888571960654783 s\n"
     ]
    },
    {
     "name": "stderr",
     "output_type": "stream",
     "text": [
      "\r",
      "                                                                               \r",
      "\r",
      " 76% (23 of 30) |##################      | Elapsed Time: 0:00:08 ETA:   0:00:04"
     ]
    },
    {
     "name": "stdout",
     "output_type": "stream",
     "text": [
      "Mode  1 : STABLE! - real\n",
      "\t decay time (10%):  0.07970177720508499 s\n",
      "Mode  2 : STABLE! - complex\n",
      "\t decay time (10%):  2.3342065986179343 s\n",
      "\t period:  3.895275498671065 s\n",
      "Mode  3 : STABLE! - complex\n",
      "\t decay time (10%):  2.3342065986179343 s\n",
      "\t period:  -3.895275498671065 s\n",
      "Mode  4 : STABLE! - complex\n",
      "\t decay time (10%):  0.44704738903205327 s\n",
      "\t period:  1.7083971673631626 s\n",
      "Mode  5 : STABLE! - complex\n",
      "\t decay time (10%):  0.44704738903205327 s\n",
      "\t period:  -1.7083971673631626 s\n"
     ]
    },
    {
     "name": "stderr",
     "output_type": "stream",
     "text": [
      "\r",
      "                                                                               \r",
      "\r",
      " 80% (24 of 30) |###################     | Elapsed Time: 0:00:09 ETA:   0:00:06"
     ]
    },
    {
     "name": "stdout",
     "output_type": "stream",
     "text": [
      "Mode  1 : STABLE! - real\n",
      "\t decay time (10%):  0.11838296454829093 s\n",
      "Mode  2 : STABLE! - real\n",
      "\t decay time (10%):  0.21112010969825393 s\n",
      "Mode  3 : STABLE! - complex\n",
      "\t decay time (10%):  1.176103711901246 s\n",
      "\t period:  4.370677129127588 s\n",
      "Mode  4 : STABLE! - complex\n",
      "\t decay time (10%):  1.176103711901246 s\n",
      "\t period:  -4.370677129127588 s\n",
      "Mode  5 : STABLE! - real\n",
      "\t decay time (10%):  0.4518137280194901 s\n"
     ]
    },
    {
     "name": "stderr",
     "output_type": "stream",
     "text": [
      "\r",
      "                                                                               \r",
      "\r",
      " 83% (25 of 30) |####################    | Elapsed Time: 0:00:11 ETA:   0:00:07"
     ]
    },
    {
     "name": "stdout",
     "output_type": "stream",
     "text": [
      "Mode  1 : STABLE! - real\n",
      "\t decay time (10%):  0.07744197206452402 s\n",
      "Mode  2 : STABLE! - complex\n",
      "\t decay time (10%):  1.8661711751841297 s\n",
      "\t period:  2.072891361429791 s\n",
      "Mode  3 : STABLE! - complex\n",
      "\t decay time (10%):  1.8661711751841297 s\n",
      "\t period:  -2.072891361429791 s\n",
      "Mode  4 : STABLE! - complex\n",
      "\t decay time (10%):  0.5565852725549333 s\n",
      "\t period:  5.593255417048749 s\n",
      "Mode  5 : STABLE! - complex\n",
      "\t decay time (10%):  0.5565852725549333 s\n",
      "\t period:  -5.593255417048749 s\n"
     ]
    },
    {
     "name": "stderr",
     "output_type": "stream",
     "text": [
      "\r",
      "                                                                               \r",
      "\r",
      " 86% (26 of 30) |####################    | Elapsed Time: 0:00:13 ETA:   0:00:08"
     ]
    },
    {
     "name": "stdout",
     "output_type": "stream",
     "text": [
      "Mode  1 : STABLE! - real\n",
      "\t decay time (10%):  1.29597233075903 s\n",
      "Mode  2 : STABLE! - complex\n",
      "\t decay time (10%):  0.4410418961406164 s\n",
      "\t period:  1.2321394449877148 s\n",
      "Mode  3 : STABLE! - complex\n",
      "\t decay time (10%):  0.4410418961406164 s\n",
      "\t period:  -1.2321394449877148 s\n",
      "Mode  4 : STABLE! - real\n",
      "\t decay time (10%):  0.1264177162140024 s\n",
      "Mode  5 : STABLE! - real\n",
      "\t decay time (10%):  0.198806179361212 s\n"
     ]
    },
    {
     "name": "stderr",
     "output_type": "stream",
     "text": [
      "\r",
      "                                                                               \r",
      "\r",
      " 90% (27 of 30) |#####################   | Elapsed Time: 0:00:16 ETA:   0:00:07"
     ]
    },
    {
     "name": "stdout",
     "output_type": "stream",
     "text": [
      "Mode  1 : STABLE! - real\n",
      "\t decay time (10%):  1.3912944621852072 s\n",
      "Mode  2 : STABLE! - complex\n",
      "\t decay time (10%):  0.4039630884412661 s\n",
      "\t period:  1.3011331444511616 s\n",
      "Mode  3 : STABLE! - complex\n",
      "\t decay time (10%):  0.4039630884412661 s\n",
      "\t period:  -1.3011331444511616 s\n",
      "Mode  4 : STABLE! - real\n",
      "\t decay time (10%):  0.21964604256815745 s\n",
      "Mode  5 : STABLE! - real\n",
      "\t decay time (10%):  0.0808622513510713 s\n"
     ]
    },
    {
     "name": "stderr",
     "output_type": "stream",
     "text": [
      "\r",
      "                                                                               \r",
      "\r",
      " 93% (28 of 30) |######################  | Elapsed Time: 0:00:19 ETA:   0:00:05"
     ]
    },
    {
     "name": "stdout",
     "output_type": "stream",
     "text": [
      "Mode  1 : STABLE! - real\n",
      "\t decay time (10%):  0.04470736758876695 s\n",
      "Mode  2 : STABLE! - complex\n",
      "\t decay time (10%):  0.1336623231774821 s\n",
      "\t period:  0.5385369161555439 s\n",
      "Mode  3 : STABLE! - complex\n",
      "\t decay time (10%):  0.1336623231774821 s\n",
      "\t period:  -0.5385369161555439 s\n",
      "Mode  4 : STABLE! - real\n",
      "\t decay time (10%):  0.8854659615826226 s\n",
      "Mode  5 : STABLE! - real\n",
      "\t decay time (10%):  0.41994484973211893 s\n"
     ]
    },
    {
     "name": "stderr",
     "output_type": "stream",
     "text": [
      " 96% (29 of 30) |####################### | Elapsed Time: 0:00:22 ETA:   0:00:03/usr/lib/python3.7/site-packages/numpy/lib/function_base.py:2048: RuntimeWarning: overflow encountered in ? (vectorized)\n",
      "  outputs = ufunc(*inputs)\n",
      "/usr/lib/python3.7/site-packages/numpy/lib/function_base.py:2048: RuntimeWarning: invalid value encountered in ? (vectorized)\n",
      "  outputs = ufunc(*inputs)\n"
     ]
    },
    {
     "ename": "LinAlgError",
     "evalue": "Array must not contain infs or NaNs",
     "output_type": "error",
     "traceback": [
      "\u001b[0;31m---------------------------------------------------------------------------\u001b[0m",
      "\u001b[0;31mLinAlgError\u001b[0m                               Traceback (most recent call last)",
      "\u001b[0;32m<ipython-input-35-f09a33c804c6>\u001b[0m in \u001b[0;36m<module>\u001b[0;34m()\u001b[0m\n\u001b[1;32m      8\u001b[0m         \u001b[0;32mfor\u001b[0m  \u001b[0mj\u001b[0m \u001b[0;32min\u001b[0m \u001b[0mrange\u001b[0m\u001b[0;34m(\u001b[0m\u001b[0;36m5\u001b[0m\u001b[0;34m)\u001b[0m\u001b[0;34m:\u001b[0m\u001b[0;34m\u001b[0m\u001b[0;34m\u001b[0m\u001b[0m\n\u001b[1;32m      9\u001b[0m             \u001b[0mA\u001b[0m\u001b[0;34m[\u001b[0m\u001b[0mi\u001b[0m\u001b[0;34m,\u001b[0m\u001b[0mj\u001b[0m\u001b[0;34m]\u001b[0m \u001b[0;34m=\u001b[0m \u001b[0mlin_dyn\u001b[0m\u001b[0;34m[\u001b[0m\u001b[0mi\u001b[0m\u001b[0;34m]\u001b[0m\u001b[0;34m.\u001b[0m\u001b[0mget_derivative\u001b[0m\u001b[0;34m(\u001b[0m\u001b[0;34m{\u001b[0m\u001b[0mss\u001b[0m\u001b[0;34m[\u001b[0m\u001b[0mj\u001b[0m\u001b[0;34m]\u001b[0m \u001b[0;34m:\u001b[0m \u001b[0;36m1\u001b[0m\u001b[0;34m}\u001b[0m\u001b[0;34m)\u001b[0m\u001b[0;34m\u001b[0m\u001b[0;34m\u001b[0m\u001b[0m\n\u001b[0;32m---> 10\u001b[0;31m             \u001b[0mlambdas\u001b[0m\u001b[0;34m,\u001b[0m \u001b[0meigv\u001b[0m \u001b[0;34m=\u001b[0m \u001b[0mnp\u001b[0m\u001b[0;34m.\u001b[0m\u001b[0mlinalg\u001b[0m\u001b[0;34m.\u001b[0m\u001b[0meig\u001b[0m\u001b[0;34m(\u001b[0m\u001b[0mA\u001b[0m\u001b[0;34m)\u001b[0m\u001b[0;34m\u001b[0m\u001b[0;34m\u001b[0m\u001b[0m\n\u001b[0m\u001b[1;32m     11\u001b[0m     \u001b[0mdecay\u001b[0m \u001b[0;34m=\u001b[0m \u001b[0;34m[\u001b[0m\u001b[0;34m]\u001b[0m\u001b[0;34m\u001b[0m\u001b[0;34m\u001b[0m\u001b[0m\n\u001b[1;32m     12\u001b[0m     \u001b[0mfreq\u001b[0m \u001b[0;34m=\u001b[0m \u001b[0;34m[\u001b[0m\u001b[0;34m]\u001b[0m\u001b[0;34m\u001b[0m\u001b[0;34m\u001b[0m\u001b[0m\n",
      "\u001b[0;32m/usr/lib/python3.7/site-packages/numpy/linalg/linalg.py\u001b[0m in \u001b[0;36meig\u001b[0;34m(a)\u001b[0m\n\u001b[1;32m   1260\u001b[0m     \u001b[0m_assertRankAtLeast2\u001b[0m\u001b[0;34m(\u001b[0m\u001b[0ma\u001b[0m\u001b[0;34m)\u001b[0m\u001b[0;34m\u001b[0m\u001b[0;34m\u001b[0m\u001b[0m\n\u001b[1;32m   1261\u001b[0m     \u001b[0m_assertNdSquareness\u001b[0m\u001b[0;34m(\u001b[0m\u001b[0ma\u001b[0m\u001b[0;34m)\u001b[0m\u001b[0;34m\u001b[0m\u001b[0;34m\u001b[0m\u001b[0m\n\u001b[0;32m-> 1262\u001b[0;31m     \u001b[0m_assertFinite\u001b[0m\u001b[0;34m(\u001b[0m\u001b[0ma\u001b[0m\u001b[0;34m)\u001b[0m\u001b[0;34m\u001b[0m\u001b[0;34m\u001b[0m\u001b[0m\n\u001b[0m\u001b[1;32m   1263\u001b[0m     \u001b[0mt\u001b[0m\u001b[0;34m,\u001b[0m \u001b[0mresult_t\u001b[0m \u001b[0;34m=\u001b[0m \u001b[0m_commonType\u001b[0m\u001b[0;34m(\u001b[0m\u001b[0ma\u001b[0m\u001b[0;34m)\u001b[0m\u001b[0;34m\u001b[0m\u001b[0;34m\u001b[0m\u001b[0m\n\u001b[1;32m   1264\u001b[0m \u001b[0;34m\u001b[0m\u001b[0m\n",
      "\u001b[0;32m/usr/lib/python3.7/site-packages/numpy/linalg/linalg.py\u001b[0m in \u001b[0;36m_assertFinite\u001b[0;34m(*arrays)\u001b[0m\n\u001b[1;32m    218\u001b[0m     \u001b[0;32mfor\u001b[0m \u001b[0ma\u001b[0m \u001b[0;32min\u001b[0m \u001b[0marrays\u001b[0m\u001b[0;34m:\u001b[0m\u001b[0;34m\u001b[0m\u001b[0;34m\u001b[0m\u001b[0m\n\u001b[1;32m    219\u001b[0m         \u001b[0;32mif\u001b[0m \u001b[0;32mnot\u001b[0m \u001b[0;34m(\u001b[0m\u001b[0misfinite\u001b[0m\u001b[0;34m(\u001b[0m\u001b[0ma\u001b[0m\u001b[0;34m)\u001b[0m\u001b[0;34m.\u001b[0m\u001b[0mall\u001b[0m\u001b[0;34m(\u001b[0m\u001b[0;34m)\u001b[0m\u001b[0;34m)\u001b[0m\u001b[0;34m:\u001b[0m\u001b[0;34m\u001b[0m\u001b[0;34m\u001b[0m\u001b[0m\n\u001b[0;32m--> 220\u001b[0;31m             \u001b[0;32mraise\u001b[0m \u001b[0mLinAlgError\u001b[0m\u001b[0;34m(\u001b[0m\u001b[0;34m\"Array must not contain infs or NaNs\"\u001b[0m\u001b[0;34m)\u001b[0m\u001b[0;34m\u001b[0m\u001b[0;34m\u001b[0m\u001b[0m\n\u001b[0m\u001b[1;32m    221\u001b[0m \u001b[0;34m\u001b[0m\u001b[0m\n\u001b[1;32m    222\u001b[0m \u001b[0;32mdef\u001b[0m \u001b[0m_isEmpty2d\u001b[0m\u001b[0;34m(\u001b[0m\u001b[0marr\u001b[0m\u001b[0;34m)\u001b[0m\u001b[0;34m:\u001b[0m\u001b[0;34m\u001b[0m\u001b[0;34m\u001b[0m\u001b[0m\n",
      "\u001b[0;31mLinAlgError\u001b[0m: Array must not contain infs or NaNs"
     ]
    }
   ],
   "source": [
    "for N in progressbar.progressbar(data):\n",
    "    # We compute the gradient of the rhs\n",
    "    lin_dyn = rhs(0, x_e, data[N][3])\n",
    "    ss = [\"dx\", \"dvx\", \"dz\", \"dvz\", \"dth\"]\n",
    "    _ = [a.extend_symbol_set(ss) for a in lin_dyn]\n",
    "    A = np.eye(5)\n",
    "    for i in range(5):\n",
    "        for  j in range(5):\n",
    "            A[i,j] = lin_dyn[i].get_derivative({ss[j] : 1})\n",
    "            lambdas, eigv = np.linalg.eig(A)\n",
    "    decay = []\n",
    "    freq = []\n",
    "    for i, lam in enumerate(lambdas):\n",
    "        alpha = lam.real\n",
    "        beta = lam.imag\n",
    "        print(\"Mode \", i+1, \": \", end='', flush=True)\n",
    "        if alpha < 0:\n",
    "            print(\"STABLE!\", end = '', flush=True)\n",
    "            if beta!=0:\n",
    "                print(\" - complex\", end='')\n",
    "                print(\"\\n\\t decay time (10%): \", np.log(0.1)/alpha, \"s\")\n",
    "                print(\"\\t period: \", 2*np.pi/beta, \"s\", flush=True)\n",
    "                decay.append(np.log(0.1)/alpha)\n",
    "                freq.append(2*np.pi/beta)\n",
    "            else:\n",
    "                print(\" - real\", end='')\n",
    "                print(\"\\n\\t decay time (10%): \", np.log(0.1)/alpha, \"s\", flush=True)\n",
    "                decay.append(np.log(0.1)/alpha)\n",
    "                freq.append(0)\n",
    "        else:\n",
    "            print(\"UNSTABLE!\", flush=True)\n",
    "    data[N][4] = max(decay)\n",
    "    data[N][5] = max(freq)\n"
   ]
  },
  {
   "cell_type": "markdown",
   "metadata": {},
   "source": [
    "### 5 - Analyze the System Stability to time delays (linear)\n",
    "\n",
    "The system linear stabilty around the equilibrium point (origin) is studied when a time delay $\\tau$ is introduced in the control input.\n",
    "\n",
    "We write the overall system as:\n",
    "\n",
    "$$\n",
    "\\dot {\\mathbf x} = \\mathbf f(\\mathbf x, \\mathbf x^\\tau)\n",
    "$$\n",
    "\n",
    "and, again considering small displacements around the stable equilibrium point at the origin, we have the representation:\n",
    "\n",
    "$$\n",
    "\\dot {\\delta \\mathbf x} = \\mathbf A \\delta \\mathbf x + \\mathbf B \\delta \\mathbf x^\\tau \n",
    "$$\n",
    "\n",
    "where we have used the notation $\\mathbf x = \\mathbf x(t)$, $\\mathbf x^\\tau = \\mathbf x(t-\\tau)$.\n",
    "\n",
    "This linear system with time delay has the general solution:\n",
    "\n",
    "$$\n",
    "\\delta \\mathbf x(t) = e^{\\Phi t}\\mathbf x_0\n",
    "$$\n",
    "\n",
    "where the matrix $\\mathbf \\Phi$ eigenvalues are obtained from the time-delayed characteristic equation:\n",
    "\n",
    "$$\n",
    "\\left|\\mathbf A + \\mathbf Be^{-\\lambda \\tau} - \\lambda\\mathbf I\\right| = 0\n",
    "$$\n",
    "\n",
    "note that for $\\tau =0$ (no delay) we recover the stability study of the undelayed system.\n"
   ]
  },
  {
   "cell_type": "code",
   "execution_count": 36,
   "metadata": {},
   "outputs": [],
   "source": [
    "# We write the dynamics as a function of both the signal and the delayed signal\n",
    "def rhs_delay(t, x, xtau, uc):\n",
    "    u = uc.compute_control(xtau)\n",
    "    return np.array([\n",
    "        x[1],\n",
    "        - 0.5 * x[1] + u[0]/m * sin(x[4]),\n",
    "        x[3],\n",
    "        -0.5 * x[3] - g0 + u[0]/m * cos(x[4]),\n",
    "         u[1],\n",
    "    ])\n",
    "# This must be zero if x[0] is the crossing of the imaginary axis and x[1] the time delay when it happens.\n",
    "def stability_margin(x, A, B):\n",
    "    # x is [imag, tau], real assumed to be zero\n",
    "    lam = 1j*x[0]\n",
    "    det = np.linalg.det(B*np.exp(-lam*x[1])+A-lam*np.eye(5))\n",
    "    return [det.real, det.imag]"
   ]
  },
  {
   "cell_type": "code",
   "execution_count": 37,
   "metadata": {},
   "outputs": [
    {
     "name": "stdout",
     "output_type": "stream",
     "text": [
      "Margin found is:  0.20794780868224505 s\n",
      "Precision obtained:  1.4521249879555074e-11\n",
      "Margin found is:  0.03402207468381522 s\n",
      "Precision obtained:  4.1430900111840005e-09\n",
      "Margin found is:  0.023293897406635 s\n",
      "Precision obtained:  5.353283295227398e-07\n",
      "Margin found is:  0.026251159885135517 s\n",
      "Precision obtained:  2.2613968389093088e-07\n",
      "Margin found is:  0.036989584660192885 s\n",
      "Precision obtained:  4.076748590743006e-08\n",
      "Margin found is:  0.038576327184728566 s\n",
      "Precision obtained:  8.765190321485392e-08\n",
      "Margin found is:  0.05575360646392221 s\n",
      "Precision obtained:  3.649478158618182e-10\n",
      "Margin found is:  0.09807763482389402 s\n",
      "Precision obtained:  3.3782821729451354e-11\n",
      "Margin found is:  0.09129809173861769 s\n",
      "Precision obtained:  8.427968166058687e-10\n",
      "Margin found is:  0.054806401981308046 s\n",
      "Precision obtained:  1.3277476833166896e-06\n",
      "Margin found is:  0.20572815303529082 s\n",
      "Precision obtained:  5.828098309918734e-13\n",
      "Margin found is:  0.029307097328132876 s\n",
      "Precision obtained:  6.972617200030184e-09\n",
      "Margin found is:  0.022505276283772947 s\n",
      "Precision obtained:  8.43949861154255e-08\n",
      "Margin found is:  0.031924240125671716 s\n",
      "Precision obtained:  3.7053872000111485e-07\n",
      "Margin found is:  0.03700388222765363 s\n",
      "Precision obtained:  2.0454479455552918e-09\n",
      "Margin found is:  0.09260126099949809 s\n",
      "Precision obtained:  6.8823087866693045e-09\n",
      "Margin found is:  0.08576838580793054 s\n",
      "Precision obtained:  2.625638114332117e-11\n",
      "Margin found is:  0.059302661353451996 s\n",
      "Precision obtained:  5.071552663930453e-10\n",
      "Margin found is:  0.04733908260536114 s\n",
      "Precision obtained:  3.024692800431566e-08\n",
      "Margin found is:  0.06545220842447581 s\n",
      "Precision obtained:  1.2669289646789362e-10\n",
      "Margin found is:  0.19352731570404746 s\n",
      "Precision obtained:  1.5127721438546822e-12\n",
      "Margin found is:  0.029164665442400012 s\n",
      "Precision obtained:  8.32857496378862e-09\n",
      "Margin found is:  0.023732731291678195 s\n",
      "Precision obtained:  1.6236809112421057e-05\n",
      "Margin found is:  0.050139514438388016 s\n",
      "Precision obtained:  2.4437147620247087e-09\n",
      "Margin found is:  0.06045091199277371 s\n",
      "Precision obtained:  1.6644493802265753e-10\n",
      "Margin found is:  0.042590902979529104 s\n",
      "Precision obtained:  1.2310906652193647e-06\n",
      "Margin found is:  0.049791965158847346 s\n",
      "Precision obtained:  3.30849335681674e-09\n",
      "Margin found is:  0.04186906927217606 s\n",
      "Precision obtained:  2.8476984148514795e-08\n",
      "Margin found is:  0.023972850648222185 s\n",
      "Precision obtained:  6.143149935282133e-06\n"
     ]
    },
    {
     "name": "stderr",
     "output_type": "stream",
     "text": [
      "/usr/lib/python3.7/site-packages/numpy/lib/function_base.py:2048: RuntimeWarning: overflow encountered in ? (vectorized)\n",
      "  outputs = ufunc(*inputs)\n",
      "/usr/lib/python3.7/site-packages/numpy/lib/function_base.py:2048: RuntimeWarning: invalid value encountered in ? (vectorized)\n",
      "  outputs = ufunc(*inputs)\n"
     ]
    },
    {
     "name": "stdout",
     "output_type": "stream",
     "text": [
      "Margin found is:  0.005 s\n",
      "Precision obtained:  nan\n"
     ]
    },
    {
     "name": "stderr",
     "output_type": "stream",
     "text": [
      "/usr/lib/python3.7/site-packages/numpy/linalg/linalg.py:2022: RuntimeWarning: invalid value encountered in det\n",
      "  r = _umath_linalg.det(a, signature=signature)\n"
     ]
    }
   ],
   "source": [
    "for N in data:\n",
    "    # We compute the gradient of rhs_delay w.r.t. x and thus A (we call it Ad to retain A in the notebook)\n",
    "    xtau_e = [gdual(0., name, 1) for name in [\"xt\",\"vxt\",\"zt\",\"vzt\",\"tht\"]]\n",
    "    lin_dyn = rhs_delay(0., x_e, xtau_e, data[N][3])\n",
    "    ss = [\"dx\", \"dvx\", \"dz\", \"dvz\", \"dth\", \"dxt\", \"dvxt\", \"dzt\", \"dvzt\", \"dtht\"]\n",
    "    _ = [a.extend_symbol_set(ss) for a in lin_dyn]\n",
    "    Ad = np.eye(5)\n",
    "    for i in range(5):\n",
    "        for  j in range(5):\n",
    "            if lin_dyn[i].order == 0: # its a constant\n",
    "                Ad[i,j] = 0\n",
    "            else:\n",
    "                Ad[i,j] = lin_dyn[i].get_derivative({ss[j] : 1})\n",
    "    # We compute the gradient of rhs_delay w.r.t. x_tau and thus B (we call it Bu to retain B in the notebook)\n",
    "    #lin_dyn = rhs_delay(0., x_e, xtau_e)\n",
    "    #ss = [\"dx\", \"dvx\", \"dz\", \"dvz\", \"dth\", \"dxt\", \"dvxt\", \"dzt\", \"dvzt\", \"dtht\"]\n",
    "    #_ = [a.extend_symbol_set(ss) for a in lin_dyn]\n",
    "    Bu = np.eye(5)\n",
    "    for i in range(5):\n",
    "        for  j in range(5):\n",
    "            if lin_dyn[i].order == 0: # its a constant\n",
    "                Bu[i,j] = 0\n",
    "            else:\n",
    "                Bu[i,j] = lin_dyn[i].get_derivative({ss[j+5] : 1})\n",
    "    from scipy.optimize import root\n",
    "    sol = root(stability_margin, [100, 0.005], (Ad, Bu), tol=1e-10)\n",
    "    print(\"Margin found is: \", sol.x[1], \"s\")\n",
    "    print(\"Precision obtained: \", np.linalg.norm(stability_margin(sol.x, Ad, Bu)))\n",
    "    data[N][6] = sol.x[1]"
   ]
  },
  {
   "cell_type": "code",
   "execution_count": 38,
   "metadata": {},
   "outputs": [
    {
     "name": "stdout",
     "output_type": "stream",
     "text": [
      "$\\mathcal N^{50}_{1}$ & 2.27s & 2.41s & 0.208s \\\\\n",
      "$\\mathcal N^{50}_{2}$ & 1.66s & 0.00s & 0.034s \\\\\n",
      "$\\mathcal N^{50}_{3}$ & 1.73s & 2.63s & 0.023s \\\\\n",
      "$\\mathcal N^{50}_{4}$ & 1.26s & 2.52s & 0.026s \\\\\n",
      "$\\mathcal N^{50}_{5}$ & 1.19s & 3.32s & 0.037s \\\\\n",
      "$\\mathcal N^{50}_{6}$ & 0.89s & 2.07s & 0.039s \\\\\n",
      "$\\mathcal N^{50}_{7}$ & 0.59s & 2.00s & 0.056s \\\\\n",
      "$\\mathcal N^{50}_{8}$ & 0.71s & 8.34s & 0.098s \\\\\n",
      "$\\mathcal N^{50}_{9}$ & 0.78s & 2.68s & 0.091s \\\\\n",
      "$\\mathcal N^{50}_{10}$ & 0.80s & 2.45s & 0.055s \\\\\n",
      "$\\mathcal N^{100}_{1}$ & 1.97s & 2.48s & 0.206s \\\\\n",
      "$\\mathcal N^{100}_{2}$ & 2.09s & 3.80s & 0.029s \\\\\n",
      "$\\mathcal N^{100}_{3}$ & 1.80s & 3.59s & 0.023s \\\\\n",
      "$\\mathcal N^{100}_{4}$ & 2.54s & 0.00s & 0.032s \\\\\n",
      "$\\mathcal N^{100}_{5}$ & 1.52s & 0.00s & 0.037s \\\\\n",
      "$\\mathcal N^{100}_{6}$ & 1.40s & 1.19s & 0.093s \\\\\n",
      "$\\mathcal N^{100}_{7}$ & 1.70s & 1.06s & 0.086s \\\\\n",
      "$\\mathcal N^{100}_{8}$ & 1.25s & 2.18s & 0.059s \\\\\n",
      "$\\mathcal N^{100}_{9}$ & 2.13s & 0.56s & 0.047s \\\\\n",
      "$\\mathcal N^{100}_{10}$ & 2.46s & 0.72s & 0.065s \\\\\n",
      "$\\mathcal N^{200}_{1}$ & 1.64s & 2.56s & 0.194s \\\\\n",
      "$\\mathcal N^{200}_{2}$ & 1.94s & 3.17s & 0.029s \\\\\n",
      "$\\mathcal N^{200}_{3}$ & 1.39s & 3.21s & 0.024s \\\\\n",
      "$\\mathcal N^{200}_{4}$ & 2.33s & 3.90s & 0.050s \\\\\n",
      "$\\mathcal N^{200}_{5}$ & 1.18s & 4.37s & 0.060s \\\\\n",
      "$\\mathcal N^{200}_{6}$ & 1.87s & 5.59s & 0.043s \\\\\n",
      "$\\mathcal N^{200}_{7}$ & 1.30s & 1.23s & 0.050s \\\\\n",
      "$\\mathcal N^{200}_{8}$ & 1.39s & 1.30s & 0.042s \\\\\n",
      "$\\mathcal N^{200}_{9}$ & 0.89s & 0.54s & 0.024s \\\\\n",
      "$\\mathcal N^{200}_{10}$ & 0.00s & 0.00s & 0.005s \\\\\n"
     ]
    }
   ],
   "source": [
    "# [path, bias, error in equilibrium, controller, damp, freq, timedelay]\n",
    "for N in data:\n",
    "    print(\"$\\mathcal N^{{{}}}_{{{}}}$ & {:0.2f}s & {:0.2f}s & {:0.3f}s \\\\\\\\\".format(int(N[-4:]), int(N[2:4]), data[N][4], data[N][5], data[N][6]))"
   ]
  },
  {
   "cell_type": "markdown",
   "metadata": {},
   "source": [
    "# Finding the delay with pade"
   ]
  },
  {
   "cell_type": "code",
   "execution_count": 39,
   "metadata": {},
   "outputs": [
    {
     "name": "stdout",
     "output_type": "stream",
     "text": [
      "Critical delay: 0.13724573048699132\n",
      "[ -4.04240377 -11.12055972   0.           0.           0.        ]\n",
      "Critical delay: 0.034011307538358904\n",
      "[-31.18559846 -45.26778635   0.           0.           0.        ]\n",
      "Critical delay: 0.023207705136757836\n",
      "[-47.96035397 -66.93354566   0.           0.           0.        ]\n",
      "Critical delay: 0.026208705803869248\n",
      "[-57.56363776 -42.00592642   0.           0.           0.        ]\n",
      "Critical delay: 0.037012308205470315\n",
      "[-40.17169425  -8.11951665   0.           0.           0.        ]\n",
      "Critical delay: 0.0386128418945964\n",
      "[-37.66909871 -17.20894492   0.           0.           0.        ]\n",
      "Critical delay: 0.0558185790527018\n",
      "[-23.56019584 -16.55180389   0.           0.           0.        ]\n",
      "Critical delay: 0.06862284856571048\n",
      "[ -9.28556337 -19.38002805   0.           0.           0.        ]\n",
      "Critical delay: 0.09123038692461641\n",
      "[-13.64647818  -8.41866913   0.           0.           0.        ]\n",
      "Critical delay: 0.054818245496998\n",
      "[-25.35362104 -16.26138075   0.           0.           0.        ]\n",
      "Critical delay: 0.13964653102068045\n",
      "[ -4.62570361 -10.80218686   0.           0.           0.        ]\n",
      "Critical delay: 0.029209706470980652\n",
      "[-49.05019787 -53.1307727    0.           0.           0.        ]\n",
      "Critical delay: 0.022407438292194798\n",
      "[-56.36897517 -69.29687726   0.           0.           0.        ]\n",
      "Critical delay: 0.0320106404269513\n",
      "[-47.44115642 -15.03943203   0.           0.           0.        ]\n",
      "Critical delay: 0.037012308205470315\n",
      "[-40.32931535 -14.81750958   0.           0.           0.        ]\n",
      "Critical delay: 0.09123038692461641\n",
      "[-10.8659966  -15.08568487   0.           0.           0.        ]\n",
      "Critical delay: 0.0710236490993996\n",
      "[-12.09282662 -18.45112019   0.           0.           0.        ]\n",
      "Critical delay: 0.05921971314209473\n",
      "[ -5.9158771  -19.48707166   0.           0.           0.        ]\n",
      "Critical delay: 0.047415777184789856\n",
      "[-11.60950718 -20.32487624   0.           0.           0.        ]\n",
      "Critical delay: 0.059019646430953976\n",
      "[-13.58301935 -22.84239062   0.           0.           0.        ]\n",
      "Critical delay: 0.13444479653102065\n",
      "[ -5.3935024  -11.08891265   0.           0.           0.        ]\n",
      "Critical delay: 0.026408772515010004\n",
      "[-52.36582755 -58.88837055   0.           0.           0.        ]\n",
      "Critical delay: 0.02380790527018012\n",
      "[-63.16396673+0.97631841j -63.16396673-0.97631841j\n",
      "   0.        +0.j           0.        +0.j\n",
      "   0.        +0.j        ]\n",
      "Critical delay: 0.05021671114076051\n",
      "[-30.38234834  -9.78186911   0.           0.           0.        ]\n",
      "Critical delay: 0.0604201134089393\n",
      "[-14.91284931 -23.45590632   0.           0.           0.        ]\n",
      "Critical delay: 0.04261417611741161\n",
      "[ -5.39032576 -34.08439327   0.           0.           0.        ]\n",
      "Critical delay: 0.049816577718478985\n",
      "[-14.08894432 -26.92551175   0.           0.           0.        ]\n",
      "Critical delay: 0.041813909272848566\n",
      "[-34.0385785  -16.97495791   0.           0.           0.        ]\n",
      "Critical delay: 0.02400797198132088\n",
      "[-60.02216255 -33.01857096   0.           0.           0.        ]\n"
     ]
    },
    {
     "name": "stderr",
     "output_type": "stream",
     "text": [
      "/usr/lib/python3.7/site-packages/numpy/lib/function_base.py:2048: RuntimeWarning: overflow encountered in ? (vectorized)\n",
      "  outputs = ufunc(*inputs)\n",
      "/usr/lib/python3.7/site-packages/numpy/lib/function_base.py:2048: RuntimeWarning: invalid value encountered in ? (vectorized)\n",
      "  outputs = ufunc(*inputs)\n"
     ]
    },
    {
     "ename": "LinAlgError",
     "evalue": "Array must not contain infs or NaNs",
     "output_type": "error",
     "traceback": [
      "\u001b[0;31m---------------------------------------------------------------------------\u001b[0m",
      "\u001b[0;31mLinAlgError\u001b[0m                               Traceback (most recent call last)",
      "\u001b[0;32m<ipython-input-39-e1a561db6259>\u001b[0m in \u001b[0;36m<module>\u001b[0;34m()\u001b[0m\n\u001b[1;32m     61\u001b[0m             \u001b[0;32melse\u001b[0m\u001b[0;34m:\u001b[0m\u001b[0;34m\u001b[0m\u001b[0;34m\u001b[0m\u001b[0m\n\u001b[1;32m     62\u001b[0m                 \u001b[0mBu\u001b[0m\u001b[0;34m[\u001b[0m\u001b[0mi\u001b[0m\u001b[0;34m,\u001b[0m\u001b[0mj\u001b[0m\u001b[0;34m]\u001b[0m \u001b[0;34m=\u001b[0m \u001b[0mlin_dyn\u001b[0m\u001b[0;34m[\u001b[0m\u001b[0mi\u001b[0m\u001b[0;34m]\u001b[0m\u001b[0;34m.\u001b[0m\u001b[0mget_derivative\u001b[0m\u001b[0;34m(\u001b[0m\u001b[0;34m{\u001b[0m\u001b[0mss\u001b[0m\u001b[0;34m[\u001b[0m\u001b[0mj\u001b[0m\u001b[0;34m+\u001b[0m\u001b[0;36m5\u001b[0m\u001b[0;34m]\u001b[0m \u001b[0;34m:\u001b[0m \u001b[0;36m1\u001b[0m\u001b[0;34m}\u001b[0m\u001b[0;34m)\u001b[0m\u001b[0;34m\u001b[0m\u001b[0;34m\u001b[0m\u001b[0m\n\u001b[0;32m---> 63\u001b[0;31m     \u001b[0mtau\u001b[0m \u001b[0;34m=\u001b[0m \u001b[0mfind_timedelay_pade\u001b[0m\u001b[0;34m(\u001b[0m\u001b[0mAd\u001b[0m\u001b[0;34m,\u001b[0m \u001b[0mBu\u001b[0m\u001b[0;34m,\u001b[0m \u001b[0mnorder\u001b[0m \u001b[0;34m=\u001b[0m \u001b[0mnorder\u001b[0m\u001b[0;34m,\u001b[0m \u001b[0mntau\u001b[0m \u001b[0;34m=\u001b[0m \u001b[0mntau\u001b[0m\u001b[0;34m)\u001b[0m\u001b[0;34m\u001b[0m\u001b[0;34m\u001b[0m\u001b[0m\n\u001b[0m\u001b[1;32m     64\u001b[0m     \u001b[0mdata\u001b[0m\u001b[0;34m[\u001b[0m\u001b[0mN\u001b[0m\u001b[0;34m]\u001b[0m\u001b[0;34m[\u001b[0m\u001b[0;36m6\u001b[0m\u001b[0;34m]\u001b[0m \u001b[0;34m=\u001b[0m \u001b[0mtau\u001b[0m\u001b[0;34m\u001b[0m\u001b[0;34m\u001b[0m\u001b[0m\n\u001b[1;32m     65\u001b[0m     \u001b[0mprint\u001b[0m\u001b[0;34m(\u001b[0m\u001b[0;34m'Critical delay:'\u001b[0m\u001b[0;34m,\u001b[0m \u001b[0mtau\u001b[0m\u001b[0;34m)\u001b[0m\u001b[0;34m\u001b[0m\u001b[0;34m\u001b[0m\u001b[0m\n",
      "\u001b[0;32m<ipython-input-39-e1a561db6259>\u001b[0m in \u001b[0;36mfind_timedelay_pade\u001b[0;34m(A, B, norder, ntau)\u001b[0m\n\u001b[1;32m     25\u001b[0m         \u001b[0mAd\u001b[0m \u001b[0;34m=\u001b[0m \u001b[0mnp\u001b[0m\u001b[0;34m.\u001b[0m\u001b[0mconcatenate\u001b[0m\u001b[0;34m(\u001b[0m\u001b[0;34m(\u001b[0m\u001b[0mAd1\u001b[0m\u001b[0;34m,\u001b[0m\u001b[0mAd2\u001b[0m\u001b[0;34m)\u001b[0m\u001b[0;34m,\u001b[0m \u001b[0maxis\u001b[0m\u001b[0;34m=\u001b[0m\u001b[0;36m0\u001b[0m\u001b[0;34m)\u001b[0m\u001b[0;34m\u001b[0m\u001b[0;34m\u001b[0m\u001b[0m\n\u001b[1;32m     26\u001b[0m \u001b[0;34m\u001b[0m\u001b[0m\n\u001b[0;32m---> 27\u001b[0;31m         \u001b[0meig_tmp\u001b[0m \u001b[0;34m=\u001b[0m \u001b[0mnp\u001b[0m\u001b[0;34m.\u001b[0m\u001b[0mlinalg\u001b[0m\u001b[0;34m.\u001b[0m\u001b[0meigvals\u001b[0m\u001b[0;34m(\u001b[0m\u001b[0mAd\u001b[0m\u001b[0;34m)\u001b[0m\u001b[0;34m\u001b[0m\u001b[0;34m\u001b[0m\u001b[0m\n\u001b[0m\u001b[1;32m     28\u001b[0m \u001b[0;34m\u001b[0m\u001b[0m\n\u001b[1;32m     29\u001b[0m         \u001b[0;32mif\u001b[0m \u001b[0mnp\u001b[0m\u001b[0;34m.\u001b[0m\u001b[0many\u001b[0m\u001b[0;34m(\u001b[0m\u001b[0mnp\u001b[0m\u001b[0;34m.\u001b[0m\u001b[0mreal\u001b[0m\u001b[0;34m(\u001b[0m\u001b[0meig_tmp\u001b[0m\u001b[0;34m)\u001b[0m\u001b[0;34m>\u001b[0m\u001b[0;36m0\u001b[0m\u001b[0;34m)\u001b[0m\u001b[0;34m:\u001b[0m\u001b[0;34m\u001b[0m\u001b[0;34m\u001b[0m\u001b[0m\n",
      "\u001b[0;32m/usr/lib/python3.7/site-packages/numpy/linalg/linalg.py\u001b[0m in \u001b[0;36meigvals\u001b[0;34m(a)\u001b[0m\n\u001b[1;32m   1021\u001b[0m     \u001b[0m_assertRankAtLeast2\u001b[0m\u001b[0;34m(\u001b[0m\u001b[0ma\u001b[0m\u001b[0;34m)\u001b[0m\u001b[0;34m\u001b[0m\u001b[0;34m\u001b[0m\u001b[0m\n\u001b[1;32m   1022\u001b[0m     \u001b[0m_assertNdSquareness\u001b[0m\u001b[0;34m(\u001b[0m\u001b[0ma\u001b[0m\u001b[0;34m)\u001b[0m\u001b[0;34m\u001b[0m\u001b[0;34m\u001b[0m\u001b[0m\n\u001b[0;32m-> 1023\u001b[0;31m     \u001b[0m_assertFinite\u001b[0m\u001b[0;34m(\u001b[0m\u001b[0ma\u001b[0m\u001b[0;34m)\u001b[0m\u001b[0;34m\u001b[0m\u001b[0;34m\u001b[0m\u001b[0m\n\u001b[0m\u001b[1;32m   1024\u001b[0m     \u001b[0mt\u001b[0m\u001b[0;34m,\u001b[0m \u001b[0mresult_t\u001b[0m \u001b[0;34m=\u001b[0m \u001b[0m_commonType\u001b[0m\u001b[0;34m(\u001b[0m\u001b[0ma\u001b[0m\u001b[0;34m)\u001b[0m\u001b[0;34m\u001b[0m\u001b[0;34m\u001b[0m\u001b[0m\n\u001b[1;32m   1025\u001b[0m \u001b[0;34m\u001b[0m\u001b[0m\n",
      "\u001b[0;32m/usr/lib/python3.7/site-packages/numpy/linalg/linalg.py\u001b[0m in \u001b[0;36m_assertFinite\u001b[0;34m(*arrays)\u001b[0m\n\u001b[1;32m    218\u001b[0m     \u001b[0;32mfor\u001b[0m \u001b[0ma\u001b[0m \u001b[0;32min\u001b[0m \u001b[0marrays\u001b[0m\u001b[0;34m:\u001b[0m\u001b[0;34m\u001b[0m\u001b[0;34m\u001b[0m\u001b[0m\n\u001b[1;32m    219\u001b[0m         \u001b[0;32mif\u001b[0m \u001b[0;32mnot\u001b[0m \u001b[0;34m(\u001b[0m\u001b[0misfinite\u001b[0m\u001b[0;34m(\u001b[0m\u001b[0ma\u001b[0m\u001b[0;34m)\u001b[0m\u001b[0;34m.\u001b[0m\u001b[0mall\u001b[0m\u001b[0;34m(\u001b[0m\u001b[0;34m)\u001b[0m\u001b[0;34m)\u001b[0m\u001b[0;34m:\u001b[0m\u001b[0;34m\u001b[0m\u001b[0;34m\u001b[0m\u001b[0m\n\u001b[0;32m--> 220\u001b[0;31m             \u001b[0;32mraise\u001b[0m \u001b[0mLinAlgError\u001b[0m\u001b[0;34m(\u001b[0m\u001b[0;34m\"Array must not contain infs or NaNs\"\u001b[0m\u001b[0;34m)\u001b[0m\u001b[0;34m\u001b[0m\u001b[0;34m\u001b[0m\u001b[0m\n\u001b[0m\u001b[1;32m    221\u001b[0m \u001b[0;34m\u001b[0m\u001b[0m\n\u001b[1;32m    222\u001b[0m \u001b[0;32mdef\u001b[0m \u001b[0m_isEmpty2d\u001b[0m\u001b[0;34m(\u001b[0m\u001b[0marr\u001b[0m\u001b[0;34m)\u001b[0m\u001b[0;34m:\u001b[0m\u001b[0;34m\u001b[0m\u001b[0;34m\u001b[0m\u001b[0m\n",
      "\u001b[0;31mLinAlgError\u001b[0m: Array must not contain infs or NaNs"
     ]
    }
   ],
   "source": [
    "# find the maximum allowable delay\n",
    "import numpy as np\n",
    "import scipy.linalg as scl\n",
    "import matplotlib.pyplot as plt\n",
    "import control\n",
    "\n",
    "def find_timedelay_pade(A, B, norder = 5, ntau = 100):\n",
    "    tau_vec = np.linspace(0.0001, 0.3, ntau)\n",
    "    del_crit = 0.\n",
    "    for ik in range(0,ntau):\n",
    "        # calculate the delay\n",
    "        nump, denp = control.pade(tau_vec[ik], norder)\n",
    "        Ap, Bp, Cp, Dp = control.ssdata(control.tf2ss(nump, denp))\n",
    "        \n",
    "        Ap = scl.block_diag(*((Ap,)*nstate))\n",
    "        Bp = scl.block_diag(*((Bp,)*nstate))\n",
    "        Cp = scl.block_diag(*((Cp,)*nstate))\n",
    "        Dp = scl.block_diag(*((Dp,)*nstate))\n",
    "\n",
    "        # interconnect the system\n",
    "        Ad11 = A+np.matmul(B,Dp)\n",
    "        Ad12 = np.matmul(B,Cp)\n",
    "        Ad1 = np.concatenate((Ad11,Ad12), axis=1)\n",
    "        Ad2 = np.concatenate((Bp,Ap), axis=1)\n",
    "        Ad = np.concatenate((Ad1,Ad2), axis=0)\n",
    "\n",
    "        eig_tmp = np.linalg.eigvals(Ad)\n",
    "\n",
    "        if np.any(np.real(eig_tmp)>0):\n",
    "            del_crit = 0.5*(tau_vec[ik] + tau_vec[ik-1])\n",
    "            break\n",
    "\n",
    "    return del_crit\n",
    "\n",
    "# do the calculations\n",
    "norder = 5\n",
    "ntau = 1500\n",
    "nstate = A.shape[0]\n",
    "for N in data:\n",
    "    # We compute the gradient of rhs_delay w.r.t. x and thus A (we call it Ad to retain A in the notebook)\n",
    "    xtau_e = [gdual(0., name, 1) for name in [\"xt\",\"vxt\",\"zt\",\"vzt\",\"tht\"]]\n",
    "    lin_dyn = rhs_delay(0., x_e, xtau_e, data[N][3])\n",
    "    ss = [\"dx\", \"dvx\", \"dz\", \"dvz\", \"dth\", \"dxt\", \"dvxt\", \"dzt\", \"dvzt\", \"dtht\"]\n",
    "    _ = [a.extend_symbol_set(ss) for a in lin_dyn]\n",
    "    Ad = np.eye(5)\n",
    "    for i in range(5):\n",
    "        for  j in range(5):\n",
    "            if lin_dyn[i].order == 0: # its a constant\n",
    "                Ad[i,j] = 0\n",
    "            else:\n",
    "                Ad[i,j] = lin_dyn[i].get_derivative({ss[j] : 1})\n",
    "    # We compute the gradient of rhs_delay w.r.t. x_tau and thus B (we call it Bu to retain B in the notebook)\n",
    "    #lin_dyn = rhs_delay(0., x_e, xtau_e)\n",
    "    #ss = [\"dx\", \"dvx\", \"dz\", \"dvz\", \"dth\", \"dxt\", \"dvxt\", \"dzt\", \"dvzt\", \"dtht\"]\n",
    "    #_ = [a.extend_symbol_set(ss) for a in lin_dyn]\n",
    "    Bu = np.eye(5)\n",
    "    for i in range(5):\n",
    "        for  j in range(5):\n",
    "            if lin_dyn[i].order == 0: # its a constant\n",
    "                Bu[i,j] = 0\n",
    "            else:\n",
    "                Bu[i,j] = lin_dyn[i].get_derivative({ss[j+5] : 1})\n",
    "    tau = find_timedelay_pade(Ad, Bu, norder = norder, ntau = ntau)\n",
    "    data[N][6] = tau\n",
    "    print('Critical delay:', tau)\n",
    "    print(np.linalg.eig(Bu)[0])"
   ]
  },
  {
   "cell_type": "code",
   "execution_count": 40,
   "metadata": {},
   "outputs": [
    {
     "name": "stdout",
     "output_type": "stream",
     "text": [
      "$\\mathcal N^{50}_{1}$ & 2.27s & 2.41s & 0.137s \\\\\n",
      "$\\mathcal N^{50}_{2}$ & 1.66s & 0.00s & 0.034s \\\\\n",
      "$\\mathcal N^{50}_{3}$ & 1.73s & 2.63s & 0.023s \\\\\n",
      "$\\mathcal N^{50}_{4}$ & 1.26s & 2.52s & 0.026s \\\\\n",
      "$\\mathcal N^{50}_{5}$ & 1.19s & 3.32s & 0.037s \\\\\n",
      "$\\mathcal N^{50}_{6}$ & 0.89s & 2.07s & 0.039s \\\\\n",
      "$\\mathcal N^{50}_{7}$ & 0.59s & 2.00s & 0.056s \\\\\n",
      "$\\mathcal N^{50}_{8}$ & 0.71s & 8.34s & 0.069s \\\\\n",
      "$\\mathcal N^{50}_{9}$ & 0.78s & 2.68s & 0.091s \\\\\n",
      "$\\mathcal N^{50}_{10}$ & 0.80s & 2.45s & 0.055s \\\\\n",
      "$\\mathcal N^{100}_{1}$ & 1.97s & 2.48s & 0.140s \\\\\n",
      "$\\mathcal N^{100}_{2}$ & 2.09s & 3.80s & 0.029s \\\\\n",
      "$\\mathcal N^{100}_{3}$ & 1.80s & 3.59s & 0.022s \\\\\n",
      "$\\mathcal N^{100}_{4}$ & 2.54s & 0.00s & 0.032s \\\\\n",
      "$\\mathcal N^{100}_{5}$ & 1.52s & 0.00s & 0.037s \\\\\n",
      "$\\mathcal N^{100}_{6}$ & 1.40s & 1.19s & 0.091s \\\\\n",
      "$\\mathcal N^{100}_{7}$ & 1.70s & 1.06s & 0.071s \\\\\n",
      "$\\mathcal N^{100}_{8}$ & 1.25s & 2.18s & 0.059s \\\\\n",
      "$\\mathcal N^{100}_{9}$ & 2.13s & 0.56s & 0.047s \\\\\n",
      "$\\mathcal N^{100}_{10}$ & 2.46s & 0.72s & 0.059s \\\\\n",
      "$\\mathcal N^{200}_{1}$ & 1.64s & 2.56s & 0.134s \\\\\n",
      "$\\mathcal N^{200}_{2}$ & 1.94s & 3.17s & 0.026s \\\\\n",
      "$\\mathcal N^{200}_{3}$ & 1.39s & 3.21s & 0.024s \\\\\n",
      "$\\mathcal N^{200}_{4}$ & 2.33s & 3.90s & 0.050s \\\\\n",
      "$\\mathcal N^{200}_{5}$ & 1.18s & 4.37s & 0.060s \\\\\n",
      "$\\mathcal N^{200}_{6}$ & 1.87s & 5.59s & 0.043s \\\\\n",
      "$\\mathcal N^{200}_{7}$ & 1.30s & 1.23s & 0.050s \\\\\n",
      "$\\mathcal N^{200}_{8}$ & 1.39s & 1.30s & 0.042s \\\\\n",
      "$\\mathcal N^{200}_{9}$ & 0.89s & 0.54s & 0.024s \\\\\n",
      "$\\mathcal N^{200}_{10}$ & 0.00s & 0.00s & 0.005s \\\\\n"
     ]
    }
   ],
   "source": [
    "# [path, bias, error in equilibrium, controller, damp, freq, timedelay]\n",
    "for N in data:\n",
    "    print(\"$\\mathcal N^{{{}}}_{{{}}}$ & {:0.2f}s & {:0.2f}s & {:0.3f}s \\\\\\\\\".format(int(N[-4:]), int(N[2:4]), data[N][4], data[N][5], data[N][6]))"
   ]
  },
  {
   "cell_type": "code",
   "execution_count": 21,
   "metadata": {},
   "outputs": [
    {
     "data": {
      "text/plain": [
       "{'N_01_0050': ['data/softplus/power_bebop_drag_h01_n0050_softplus.pkl',\n",
       "  array([0.01343079, 0.        , 0.04348591, 0.        , 0.        ]),\n",
       "  2.8427780962569926e-16,\n",
       "  <__main__.UnbiasedController at 0x7f738ce3bb70>,\n",
       "  2.272721113022438,\n",
       "  2.4096714801816375,\n",
       "  0.13724573048699132],\n",
       " 'N_02_0050': ['data/softplus/power_bebop_drag_h02_n0050_softplus.pkl',\n",
       "  array([0.00459851, 0.        , 0.00067665, 0.        , 0.        ]),\n",
       "  5.167307554065914e-16,\n",
       "  <__main__.UnbiasedController at 0x7f738ce3be48>,\n",
       "  1.6618332926667594,\n",
       "  0,\n",
       "  0.034011307538358904],\n",
       " 'N_03_0050': ['data/softplus/power_bebop_drag_h03_n0050_softplus.pkl',\n",
       "  array([-4.25786287e-05,  0.00000000e+00,  1.74473983e-03,  0.00000000e+00,\n",
       "          0.00000000e+00]),\n",
       "  4.470778616589867e-16,\n",
       "  <__main__.UnbiasedController at 0x7f738ce3bc88>,\n",
       "  1.7294195275447728,\n",
       "  2.634563265334623,\n",
       "  0.023207705136757836],\n",
       " 'N_04_0050': ['data/softplus/power_bebop_drag_h04_n0050_softplus.pkl',\n",
       "  array([0.00077276, 0.        , 0.00487104, 0.        , 0.        ]),\n",
       "  4.470778616589867e-16,\n",
       "  <__main__.UnbiasedController at 0x7f736f6c7048>,\n",
       "  1.2643913597741272,\n",
       "  2.5220787749093434,\n",
       "  0.026208705803869248],\n",
       " 'N_05_0050': ['data/softplus/power_bebop_drag_h05_n0050_softplus.pkl',\n",
       "  array([-0.00027785,  0.        ,  0.01005172,  0.        ,  0.        ]),\n",
       "  4.470778616589867e-16,\n",
       "  <__main__.UnbiasedController at 0x7f736f6ce518>,\n",
       "  1.1943272976219297,\n",
       "  3.321313858066725,\n",
       "  0.037012308205470315],\n",
       " 'N_01_0100': ['data/softplus/power_bebop_drag_h01_n0100_softplus.pkl',\n",
       "  array([0.01026785, 0.        , 0.04322446, 0.        , 0.        ]),\n",
       "  5.160802341031001e-17,\n",
       "  <__main__.UnbiasedController at 0x7f736f6c70b8>,\n",
       "  1.968105821546167,\n",
       "  2.481006068262207,\n",
       "  0.13964653102068045],\n",
       " 'N_02_0100': ['data/softplus/power_bebop_drag_h02_n0100_softplus.pkl',\n",
       "  array([-0.00037111,  0.        ,  0.00256596,  0.        ,  0.        ]),\n",
       "  5.272846473687985e-16,\n",
       "  <__main__.UnbiasedController at 0x7f736c880e48>,\n",
       "  2.0865890338255366,\n",
       "  3.80023115277266,\n",
       "  0.029209706470980652],\n",
       " 'N_03_0100': ['data/softplus/power_bebop_drag_h03_n0100_softplus.pkl',\n",
       "  array([0.00026167, 0.        , 0.00192276, 0.        , 0.        ]),\n",
       "  1.0982418293387115e-15,\n",
       "  <__main__.UnbiasedController at 0x7f736f6c79b0>,\n",
       "  1.8026112464952613,\n",
       "  3.5926050577455535,\n",
       "  0.022407438292194798],\n",
       " 'N_04_0100': ['data/softplus/power_bebop_drag_h04_n0100_softplus.pkl',\n",
       "  array([-0.00729047,  0.        ,  0.00884396,  0.        ,  0.        ]),\n",
       "  2.8427780962569926e-16,\n",
       "  <__main__.UnbiasedController at 0x7f736c883550>,\n",
       "  2.542986389575647,\n",
       "  0,\n",
       "  0.0320106404269513],\n",
       " 'N_05_0100': ['data/softplus/power_bebop_drag_h05_n0100_softplus.pkl',\n",
       "  array([0.00118186, 0.        , 0.00623525, 0.        , 0.        ]),\n",
       "  5.160802341031001e-17,\n",
       "  <__main__.UnbiasedController at 0x7f736f6c78d0>,\n",
       "  1.5192161296588103,\n",
       "  0,\n",
       "  0.037012308205470315],\n",
       " 'N_01_0200': ['data/softplus/power_bebop_drag_h01_n0200_softplus.pkl',\n",
       "  array([0.0027988 , 0.        , 0.03002102, 0.        , 0.        ]),\n",
       "  4.470778616589867e-16,\n",
       "  <__main__.UnbiasedController at 0x7f738ce610f0>,\n",
       "  1.6439173663118238,\n",
       "  2.5603042073533566,\n",
       "  0.13444479653102065],\n",
       " 'N_02_0200': ['data/softplus/power_bebop_drag_h02_n0200_softplus.pkl',\n",
       "  array([-0.0001433 ,  0.        ,  0.00241094,  0.        ,  0.        ]),\n",
       "  1.6375784014188756e-15,\n",
       "  <__main__.UnbiasedController at 0x7f736c891400>,\n",
       "  1.935003235126662,\n",
       "  3.1740133116418607,\n",
       "  0.026408772515010004],\n",
       " 'N_03_0200': ['data/softplus/power_bebop_drag_h03_n0200_softplus.pkl',\n",
       "  array([-6.79329284e-05,  0.00000000e+00,  1.39451671e-03,  0.00000000e+00,\n",
       "          0.00000000e+00]),\n",
       "  4.470778616589867e-16,\n",
       "  <__main__.UnbiasedController at 0x7f736c883e48>,\n",
       "  1.3888571960654812,\n",
       "  3.209230549205454,\n",
       "  0.02380790527018012],\n",
       " 'N_04_0200': ['data/softplus/power_bebop_drag_h04_n0200_softplus.pkl',\n",
       "  array([0.00082082, 0.        , 0.00507702, 0.        , 0.        ]),\n",
       "  5.160802341031001e-17,\n",
       "  <__main__.UnbiasedController at 0x7f736f6c7198>,\n",
       "  2.3342065986179352,\n",
       "  3.8952754986710634,\n",
       "  0.05021671114076051],\n",
       " 'N_05_0200': ['data/softplus/power_bebop_drag_h05_n0200_softplus.pkl',\n",
       "  array([-0.00148274,  0.        ,  0.00426386,  0.        ,  0.        ]),\n",
       "  4.470778616589867e-16,\n",
       "  <__main__.UnbiasedController at 0x7f736c883940>,\n",
       "  1.17610371190125,\n",
       "  4.370677129127591,\n",
       "  0.0604201134089393]}"
      ]
     },
     "execution_count": 21,
     "metadata": {},
     "output_type": "execute_result"
    }
   ],
   "source": [
    "data"
   ]
  },
  {
   "cell_type": "code",
   "execution_count": null,
   "metadata": {},
   "outputs": [],
   "source": []
  }
 ],
 "metadata": {
  "kernelspec": {
   "display_name": "Python 3",
   "language": "python",
   "name": "python3"
  },
  "language_info": {
   "codemirror_mode": {
    "name": "ipython",
    "version": 3
   },
   "file_extension": ".py",
   "mimetype": "text/x-python",
   "name": "python",
   "nbconvert_exporter": "python",
   "pygments_lexer": "ipython3",
   "version": "3.7.1"
  }
 },
 "nbformat": 4,
 "nbformat_minor": 2
}
